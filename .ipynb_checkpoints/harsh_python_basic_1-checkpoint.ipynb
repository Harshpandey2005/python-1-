{
  "cells": [
    {
      "cell_type": "code",
      "execution_count": null,
      "id": "7865799b-1b7f-437e-88b5-3b4135a95ad6",
      "metadata": {
        "id": "7865799b-1b7f-437e-88b5-3b4135a95ad6"
      },
      "outputs": [],
      "source": [
        "# 1). Explain the key features of Python that make it a popular choice for programming?"
      ]
    },
    {
      "cell_type": "code",
      "execution_count": null,
      "id": "10f5ddb4-3b5e-4fc5-81c0-94e15f19cfd1",
      "metadata": {
        "id": "10f5ddb4-3b5e-4fc5-81c0-94e15f19cfd1"
      },
      "outputs": [],
      "source": [
        "##The key features of python that makes it popular choice for programming are:\n",
        "# a).Simple and Easy to Learn>>Python's syntax is clean, readable, and closer to English, making it easy to learn and write.This simplicity reduces the learning curve for beginners.\n",
        "# b).Platform Independence>> Python code can be written on one platform and run on any other platform without modification, provided the Python interpreter is available.\n",
        "# c).Community Support>> Python has a large and active community of developers who contribute to its growth and provide support through forums, documentation, and tutorials.\n",
        "# d).Integration Capabilities>> Python can easily integrate with other languages and technologies, such as C, C++, Java, and .NET, making it a suitable choice for building complex, multi-language applications.\n",
        "# e).Extensive Use in Automation>>  Python is widely used for scripting and automating repetitive tasks, making it popular in DevOps and system administration."
      ]
    },
    {
      "cell_type": "code",
      "execution_count": null,
      "id": "f5959361-ae84-4474-bfbb-eb6d82674dcb",
      "metadata": {
        "id": "f5959361-ae84-4474-bfbb-eb6d82674dcb"
      },
      "outputs": [],
      "source": [
        "# 2). Describe the role of predefined keywords in Python and provide examples of how they are used in a program?"
      ]
    },
    {
      "cell_type": "code",
      "execution_count": null,
      "id": "5532c503-5145-42fd-82e1-6024fd4253be",
      "metadata": {
        "id": "5532c503-5145-42fd-82e1-6024fd4253be",
        "outputId": "210d27d5-0bb0-48e4-942c-02996dca995e"
      },
      "outputs": [
        {
          "name": "stdout",
          "output_type": "stream",
          "text": [
            "No result\n"
          ]
        }
      ],
      "source": [
        "##Predefined keywords in Python are reserved words that have special meaning and specific functions in the language. They form the basic syntax and structure of Python programs.\n",
        "# some examples:\n",
        "# a). False / True>>Represent the two boolean values.\n",
        "is_active = True\n",
        "is_inactive = False\n",
        "\n",
        "# b). None>>result = Represents the absence of a value or a null value.\n",
        "result = None\n",
        "if result is None:\n",
        "    print(\"No result\")\n",
        "\n"
      ]
    },
    {
      "cell_type": "code",
      "execution_count": null,
      "id": "d10c5386-d819-4363-9d10-f01ba26010b1",
      "metadata": {
        "id": "d10c5386-d819-4363-9d10-f01ba26010b1",
        "outputId": "54afb01a-c1ff-4bef-8819-8f5121b60e5b"
      },
      "outputs": [
        {
          "name": "stdout",
          "output_type": "stream",
          "text": [
            "x is positive\n"
          ]
        }
      ],
      "source": [
        "# c). if / elif / else>>Used for conditional branching.\n",
        "x = 10\n",
        "if x > 0:\n",
        "    print(\"x is positive\")\n",
        "elif x == 0:\n",
        "    print(\"x is zero\")\n",
        "else:\n",
        "    print(\"x is negative\")\n"
      ]
    },
    {
      "cell_type": "code",
      "execution_count": null,
      "id": "1c802a26-da72-42bc-85c9-0d16070b8e5e",
      "metadata": {
        "id": "1c802a26-da72-42bc-85c9-0d16070b8e5e"
      },
      "outputs": [],
      "source": [
        "# 3). Compare and contrast mutable and immutable objects in Python with examples?"
      ]
    },
    {
      "cell_type": "code",
      "execution_count": null,
      "id": "3a416031-672d-4cad-92f8-4ffb863f9951",
      "metadata": {
        "id": "3a416031-672d-4cad-92f8-4ffb863f9951"
      },
      "outputs": [],
      "source": [
        "##Mutable Objects\n",
        "#Definition: Objects whose state or contents can be changed after creation.\n",
        "#Common Examples: Lists, dictionaries, sets, byte arrays.\n",
        "#Usage: Useful when you need to modify the data in place without creating a new object.\n",
        "my_list = [1, 2, 3]\n",
        "#my_list[2]  = \"4\"  # Modifies the original list\n",
        "#print(my_list)  # Output: [1, 2, '4']\n",
        "\n",
        "##Immutable Objects\n",
        "#Definition: Objects whose state or contents cannot be changed after creation.\n",
        "#Common Examples: Strings, tuples, integers, floats, frozensets.\n",
        "#Usage: Useful for data that should not change throughout the program, ensuring consistency and reliability.\n",
        "my_string = \"hello\"\n",
        "# my_string[0] = 'H'  # This would raise a TypeError as strings are immutable."
      ]
    },
    {
      "cell_type": "code",
      "execution_count": null,
      "id": "5eb4851e-4ad1-4ce9-a786-c17cefa2e388",
      "metadata": {
        "id": "5eb4851e-4ad1-4ce9-a786-c17cefa2e388"
      },
      "outputs": [],
      "source": [
        "# 4). Discuss the different types of operators in Python and provide examples of how they are used?"
      ]
    },
    {
      "cell_type": "code",
      "execution_count": null,
      "id": "4fe7696c-c28b-4966-99ce-5dbfddf80695",
      "metadata": {
        "id": "4fe7696c-c28b-4966-99ce-5dbfddf80695"
      },
      "outputs": [],
      "source": [
        "##1. Arithmetic Operators:Used to perform mathematical operations.\n",
        "\n",
        "# a).Addition (+): Adds two operands.\n",
        "#   result = 5 + 3  # result is 8\n",
        "# b).Subtraction (-): Subtracts the second operand from the first.\n",
        "#   result = 5 - 3  # result is 2\n",
        "# c).Multiplication (*): Multiplies two operands.\n",
        "#  result = 5 * 3  # result is 15\n",
        "# d).Division (/): Divides the first operand by the second.\n",
        "#  result = 5 / 3  # result is 1.6666666666666667\n",
        "# e).Modulus (%): Returns the remainder of the division.\n",
        "#  result = 5 % 3  # result is 2\n",
        "# f).Exponentiation (**): Raises the first operand to the power of the second.\n",
        "#  result = 5 ** 3  # result is 125\n",
        "\n",
        "##2. Comparison Operators:Used to compare two values and return a boolean result.\n",
        "\n",
        "# a).Equal to (==): Checks if two values are equal.\n",
        "#  result = 5 == 3  # result is False\n",
        "# b).Not equal to (!=): Checks if two values are not equal.\n",
        "#  result = 5 != 3  # result is True\n",
        "# c).Greater than (>): Checks if the left operand is greater than the right.\n",
        "#  result = 5 > 3  # result is True\n",
        "# d).Less than (<): Checks if the left operand is less than the right.\n",
        "#  result = 5 < 3  # result is False\n",
        "# e).Greater than or equal to (>=): Checks if the left operand is greater than or equal to the right.\n",
        "#  result = 5 >= 3  # result is True\n",
        "# f).Less than or equal to (<=): Checks if the left operand is less than or equal to the right.\n",
        "#  result = 5 <= 3  # result is False\n",
        "\n",
        "##3.  Logical Operators:Used to combine conditional statements.\n",
        "\n",
        "# a).AND (and): Returns True if both statements are true.\n",
        "#  result = (5 > 3) and (3 > 1)  # result is True\n",
        "# b).OR (or): Returns True if at least one statement is true.\n",
        "#  result = (5 > 3) or (3 > 5)  # result is True\n",
        "# c).NOT (not): Reverses the result of the condition.\n",
        "#  result = not(5 > 3)  # result is False\n",
        "\n",
        "##4. Bitwise Operators:Used to perform bit-level operations.\n",
        "\n",
        "# a).AND (&): Performs bitwise AND.\n",
        "#  result = 5 & 3  # result is 1 (binary: 0101 & 0011 = 0001)\n",
        "# b).OR (|): Performs bitwise OR.\n",
        "#  result = 5 | 3  # result is 7 (binary: 0101 | 0011 = 0111)\n",
        "# c).XOR (^): Performs bitwise XOR.\n",
        "#  result = 5 ^ 3  # result is 6 (binary: 0101 ^ 0011 = 0110)\n",
        "# d).NOT (~): Performs bitwise NOT.\n",
        "#  result = ~5  # result is -6 (binary: ~0101 = 1010 in two's complement form)\n",
        "# e).Left Shift (<<): Shifts bits to the left.\n",
        "#  result = 5 << 1  # result is 10 (binary: 0101 << 1 = 1010)\n",
        "# f).Right Shift (>>): Shifts bits to the right.\n",
        "#  result = 5 >> 1  # result is 2 (binary: 0101 >> 1 = 0010)\n",
        "\n",
        "##5. Assignment Operators:Used to assign values to variables.\n",
        "\n",
        "# a).Assign (=): Assigns a value to a variable.\n",
        "#  x = 5\n",
        "# b).Add and assign (+=): Adds and then assigns the result.\n",
        "#  x += 3  # equivalent to x = x + 3\n",
        "# c).Subtract and assign (-=): Subtracts and then assigns the result.\n",
        "#  x -= 3  # equivalent to x = x - 3\n",
        "# d).Multiply and assign (*=): Multiplies and then assigns the result.\n",
        "#  x *= 3  # equivalent to x = x * 3\n",
        "# e).Divide and assign (/=): Divides and then assigns the result.\n",
        "#  x /= 3  # equivalent to x = x / 3\n",
        "\n",
        "##6.  Membership Operators:Used to test if a sequence contains a specified value.\n",
        "\n",
        "# a).In (in): Returns True if a value is found in the sequence.\n",
        "#  result = 1 in [1, 2, 3]  # result is True\n",
        "# b).Not in (not in): Returns True if a value is not found in the sequence.\n",
        "#  result = 4 not in [1, 2, 3]  # result is True\n",
        "\n",
        "##7. Identity Operators:Used to compare objects to see if they are the same object.\n",
        "\n",
        "# a).Is (is): Returns True if both variables point to the same object.\n",
        "#  x = [1, 2, 3]\n",
        "#y = x\n",
        "#result = x is y  # result is True\n",
        "# b).Is not (is not): Returns True if both variables point to different objects.\n",
        "#  x = [1, 2, 3]\n",
        "#y = [1, 2, 3]\n",
        "#result = x is not y  # result is True"
      ]
    },
    {
      "cell_type": "code",
      "execution_count": null,
      "id": "8fd91f71-4783-4027-b52a-53bcdbb9b183",
      "metadata": {
        "id": "8fd91f71-4783-4027-b52a-53bcdbb9b183"
      },
      "outputs": [],
      "source": [
        "# 5). Explain the concept of type casting in Python with examples?"
      ]
    },
    {
      "cell_type": "code",
      "source": [
        "##Type casting in Python refers to converting one data type into another. It is also known as type conversion. There are two types of type casting: implicit and explicit.\n",
        "\n",
        "# A).Implicit Type Casting:Python automatically converts one data type to another without explicit instruction from the programmer. This usually happens in operations involving mixed data types.\n",
        "# example:\n",
        "#a = 5        # Integer\n",
        "#b = 2.0      # Float\n",
        "#c = a + b    # Python automatically converts 'a' to float and performs the addition\n",
        "#print(c)     # Output: 7.0\n",
        "#print(type(c))  # Output: <class 'float'>\n",
        "\n",
        "# B).Explicit Type Casting:In explicit type casting, the programmer manually converts one data type into another using type conversion functions.\n",
        "\n",
        "#Common Type Conversion Functions:\n",
        "#int(): Converts a value to an integer.\n",
        "#float(): Converts a value to a float.\n",
        "#str(): Converts a value to a string.\n",
        "#list(): Converts a value to a list.\n",
        "#Examples:\n",
        "\n",
        "#  a).Converting to an Integer:\n",
        "#  a = \"10\"\n",
        "#b = int(a)  # Converts string 'a' to integer\n",
        "#print(b)    # Output: 10\n",
        "#print(type(b))  # Output: <class 'int'>\n",
        "\n",
        "# b).Converting to a Float:\n",
        "#  a = \"10.5\"\n",
        "#b = float(a)  # Converts string 'a' to float\n",
        "#print(b)      # Output: 10.5\n",
        "#print(type(b))  # Output: <class 'float'>\n",
        "\n",
        "# c).Converting to a String:\n",
        "#  a = 10\n",
        "#b = str(a)  # Converts integer 'a' to string\n",
        "#print(b)    # Output: \"10\"\n",
        "#print(type(b))  # Output: <class 'str'>\n",
        "\n",
        "# d).Converting to a List:\n",
        "#  a = \"hello\"\n",
        "#b = list(a)  # Converts string 'a' to list of characters\n",
        "#print(b)     # Output: ['h', 'e', 'l', 'l', 'o']\n",
        "#print(type(b))  # Output: <class 'list'>\n",
        "\n",
        "#There is also an another type of typecasting known as boolean typecasting: type cast into bool\n",
        "# examples>>\n",
        "# bool(0) #output: False\n",
        "# bool(1) #output: True   #output is False only for 0, otherwise for any value it is True."
      ],
      "metadata": {
        "id": "nwLWmXKx07cL"
      },
      "id": "nwLWmXKx07cL",
      "execution_count": null,
      "outputs": []
    },
    {
      "cell_type": "code",
      "source": [
        "# 6). How do conditional statements work in Python? Illustrate with examples?"
      ],
      "metadata": {
        "id": "Nxqtka4o7dmG"
      },
      "id": "Nxqtka4o7dmG",
      "execution_count": null,
      "outputs": []
    },
    {
      "cell_type": "code",
      "source": [
        "##Conditional statements in Python allow you to execute certain pieces of code based on whether a given condition is true or false. The primary conditional statements in Python are if, elif, and else. These statements help control the flow of a program by enabling decision-making.\n",
        "\n",
        "# A).if Statement>>The if statement evaluates a condition and executes the code block within it if the condition is true\n",
        "x = 10\n",
        "\n",
        "if x > 5:\n",
        "    print(\"x is greater than 5\")\n"
      ],
      "metadata": {
        "colab": {
          "base_uri": "https://localhost:8080/"
        },
        "id": "PCK95O-A7ggv",
        "outputId": "26575944-7dc1-4caa-ed2e-390254d0c48b"
      },
      "id": "PCK95O-A7ggv",
      "execution_count": null,
      "outputs": [
        {
          "output_type": "stream",
          "name": "stdout",
          "text": [
            "x is greater than 5\n"
          ]
        }
      ]
    },
    {
      "cell_type": "code",
      "source": [
        "# B).if - else Statement>>The else statement is used to execute a block of code if the preceding 'if' conditions is false.\n",
        "x = 3\n",
        "\n",
        "if x > 5:\n",
        "    print(\"x is greater than 5\")\n",
        "else:\n",
        "    print(\"x is less than 5\")"
      ],
      "metadata": {
        "colab": {
          "base_uri": "https://localhost:8080/"
        },
        "id": "7uffb0XHA9Y_",
        "outputId": "9e364e02-77dd-421d-d23d-513dc2ea8d98"
      },
      "id": "7uffb0XHA9Y_",
      "execution_count": null,
      "outputs": [
        {
          "output_type": "stream",
          "name": "stdout",
          "text": [
            "x is less than 5\n"
          ]
        }
      ]
    },
    {
      "cell_type": "code",
      "source": [
        "# C).if-elif-else statement>>The elif statement stands for \"else if\" and allows you to check multiple conditions. It executes the code block within it if its condition is true and the previous if condition(s) were false.\n",
        "x = 10\n",
        "\n",
        "if x > 15:\n",
        "    print(\"x is greater than 15\")\n",
        "elif x > 5:\n",
        "    print(\"x is greater than 5 but less than or equal to 15\")\n",
        "else:\n",
        "    print(\"x is 5 or less\")\n"
      ],
      "metadata": {
        "colab": {
          "base_uri": "https://localhost:8080/"
        },
        "id": "yA4VCnEABwH1",
        "outputId": "3db49c2a-d6d1-4426-a361-844298021957"
      },
      "id": "yA4VCnEABwH1",
      "execution_count": null,
      "outputs": [
        {
          "output_type": "stream",
          "name": "stdout",
          "text": [
            "x is greater than 5 but less than or equal to 15\n"
          ]
        }
      ]
    },
    {
      "cell_type": "code",
      "source": [
        "# D).Nested Conditional Statements>>We can nest if statements within other if statements to check more complex conditions.\n",
        "x = 7\n",
        "y = 6\n",
        "if x > 5:\n",
        "  if y > 5:\n",
        "    print(\"both x and y are greater than 5\")\n",
        "  else:\n",
        "    print(\"x is greater than 5 but y is less than 5\")\n",
        "else:\n",
        "  print(\"x is not greater than 5\")\n"
      ],
      "metadata": {
        "colab": {
          "base_uri": "https://localhost:8080/"
        },
        "id": "URmp5whdCQAa",
        "outputId": "ec19269b-99d1-4843-8693-4aefb10ab9fc"
      },
      "id": "URmp5whdCQAa",
      "execution_count": null,
      "outputs": [
        {
          "output_type": "stream",
          "name": "stdout",
          "text": [
            "both x and y are greater than 5\n"
          ]
        }
      ]
    },
    {
      "cell_type": "code",
      "source": [
        "# 7). Describe the different types of loops in Python and their use cases with examples.?"
      ],
      "metadata": {
        "id": "uRXamC4HDwtt"
      },
      "id": "uRXamC4HDwtt",
      "execution_count": null,
      "outputs": []
    },
    {
      "cell_type": "code",
      "source": [
        " ## Python provides two main types of loops: for loops and while loops. Each has its own use cases.\n",
        "\n",
        " # 1. for Loop>>A for loop is used to iterate over a sequence (e.g., list, tuple, dictionary, set, or string) and execute a block of code for each element in the sequence.\n",
        " fruits = ['apple', 'banana', 'cherry']\n",
        "for fruit in fruits:\n",
        "    print(fruit)\n"
      ],
      "metadata": {
        "colab": {
          "base_uri": "https://localhost:8080/"
        },
        "id": "Z2Uokh_23Vuu",
        "outputId": "ffcc5248-af35-4e0e-f812-80b1af6aa48a"
      },
      "id": "Z2Uokh_23Vuu",
      "execution_count": null,
      "outputs": [
        {
          "output_type": "stream",
          "name": "stdout",
          "text": [
            "apple\n",
            "banana\n",
            "cherry\n"
          ]
        }
      ]
    },
    {
      "cell_type": "code",
      "source": [
        "# 2. while Loop>>A while loop repeatedly executes a block of code as long as a specified condition is true.\n",
        "i = 1\n",
        "while i <= 5:\n",
        "    print(i)\n",
        "    i += 1"
      ],
      "metadata": {
        "colab": {
          "base_uri": "https://localhost:8080/"
        },
        "id": "DMMLleY85D0V",
        "outputId": "f499a1f4-d77d-4179-dd38-995d84a042fc"
      },
      "id": "DMMLleY85D0V",
      "execution_count": null,
      "outputs": [
        {
          "output_type": "stream",
          "name": "stdout",
          "text": [
            "1\n",
            "2\n",
            "3\n",
            "4\n",
            "5\n"
          ]
        }
      ]
    },
    {
      "cell_type": "code",
      "source": [
        "# Loop Control Statements:Python provides several statements to control the flow of loops: break and continue\n",
        "\n",
        "# 1. break Statement>>The break statement is used to exit the loop prematurely when a certain condition is met.\n",
        "#Example:Breaking out of a loop when a specific element is found>>>\n",
        "numbers = [1, 2, 3, 4, 5]\n",
        "for number in numbers:\n",
        "    if number == 3:\n",
        "        break\n",
        "    print(number)"
      ],
      "metadata": {
        "colab": {
          "base_uri": "https://localhost:8080/"
        },
        "id": "ZoeO40S35rAz",
        "outputId": "fd8277e6-ba1c-4340-c372-7163a62a2ea3"
      },
      "id": "ZoeO40S35rAz",
      "execution_count": null,
      "outputs": [
        {
          "output_type": "stream",
          "name": "stdout",
          "text": [
            "1\n",
            "2\n"
          ]
        }
      ]
    },
    {
      "cell_type": "code",
      "source": [
        "# 2. continue Statement>>The continue statement skips the rest of the code inside the loop for the current iteration and moves to the next iteration.\n",
        "#Example:\n",
        "for number in range(1, 6):\n",
        "    if number % 2 == 0:\n",
        "        continue\n",
        "    print(number)"
      ],
      "metadata": {
        "colab": {
          "base_uri": "https://localhost:8080/"
        },
        "id": "SQdzXV4pLj9k",
        "outputId": "763592f6-94ba-4031-cf29-85e28f6e2190"
      },
      "id": "SQdzXV4pLj9k",
      "execution_count": null,
      "outputs": [
        {
          "output_type": "stream",
          "name": "stdout",
          "text": [
            "1\n",
            "3\n",
            "5\n"
          ]
        }
      ]
    },
    {
      "cell_type": "code",
      "source": [
        "# In this also there is a type called Nested Loops>>Loops can be nested within other loops, allowing for more complex iteration patterns.\n",
        "# Example:\n",
        "nested_list = [[1, 2, 3], [4, 5, 6], [7, 8, 9]]\n",
        "for sublist in nested_list:\n",
        "    for item in sublist:\n",
        "        print(item, end=' ')\n",
        "    print()  # For a new line after each sublist\n"
      ],
      "metadata": {
        "colab": {
          "base_uri": "https://localhost:8080/"
        },
        "id": "GYG-3f2aL5Ue",
        "outputId": "0a96f2d5-deb5-4fb8-f858-3b6cb0c47564"
      },
      "id": "GYG-3f2aL5Ue",
      "execution_count": null,
      "outputs": [
        {
          "output_type": "stream",
          "name": "stdout",
          "text": [
            "1 2 3 \n",
            "4 5 6 \n",
            "7 8 9 \n"
          ]
        }
      ]
    },
    {
      "cell_type": "code",
      "source": [
        "# Use cases for Loops:\n",
        "\n",
        "# 1. Iterating Over a List:Use a for loop to process or manipulate each item in a list.\n",
        "# example:\n",
        "names = ['Alice', 'Bob', 'Charlie']\n",
        "for name in names:\n",
        "    print(name)\n"
      ],
      "metadata": {
        "colab": {
          "base_uri": "https://localhost:8080/"
        },
        "id": "BICFhPSfMZ7e",
        "outputId": "40bd216d-09f0-4ecd-9a1b-459406006304"
      },
      "id": "BICFhPSfMZ7e",
      "execution_count": null,
      "outputs": [
        {
          "output_type": "stream",
          "name": "stdout",
          "text": [
            "Alice\n",
            "Bob\n",
            "Charlie\n"
          ]
        }
      ]
    },
    {
      "cell_type": "code",
      "source": [
        "# 2. Repeating a Task:Use a while loop to repeat a task until a condition is met.\n",
        "# example:\n",
        "#password = ''\n",
        "#while password != 'secret':\n",
        "# password = input(\"Enter password: \")\n",
        "#print(\"Access granted\")"
      ],
      "metadata": {
        "id": "OZwA3PNENCkd"
      },
      "id": "OZwA3PNENCkd",
      "execution_count": null,
      "outputs": []
    },
    {
      "cell_type": "code",
      "source": [
        "# 3. Range Iteration:Use for loops with range() to iterate over a sequence of numbers.\n",
        "# example:\n",
        "for i in range(1, 6):\n",
        "    print(i)\n"
      ],
      "metadata": {
        "colab": {
          "base_uri": "https://localhost:8080/"
        },
        "id": "_1Yo31SzNbr1",
        "outputId": "d2a235c1-2d9b-4c80-f8fb-102b5d665594"
      },
      "id": "_1Yo31SzNbr1",
      "execution_count": null,
      "outputs": [
        {
          "output_type": "stream",
          "name": "stdout",
          "text": [
            "1\n",
            "2\n",
            "3\n",
            "4\n",
            "5\n"
          ]
        }
      ]
    },
    {
      "cell_type": "code",
      "source": [
        "# 4. Processing Strings:Use for loops to iterate over characters in a string.\n",
        "#example:\n",
        "message = \"Hello\"\n",
        "for char in message:\n",
        "    print(char)\n"
      ],
      "metadata": {
        "colab": {
          "base_uri": "https://localhost:8080/"
        },
        "id": "2rtHnpUlOTxR",
        "outputId": "1deb45e8-33dc-4da8-ff65-62609da644e5"
      },
      "id": "2rtHnpUlOTxR",
      "execution_count": null,
      "outputs": [
        {
          "output_type": "stream",
          "name": "stdout",
          "text": [
            "H\n",
            "e\n",
            "l\n",
            "l\n",
            "o\n"
          ]
        }
      ]
    },
    {
      "cell_type": "code",
      "source": [
        "# 5. Nested Data Structures:Use nested loops to process complex data structures like matrices or nested lists.\n",
        "# example:\n",
        "matrix = [[1, 2], [3, 4], [5, 6]]\n",
        "for row in matrix:\n",
        "    for col in row:\n",
        "        print(col, end=' ')\n",
        "    print()\n"
      ],
      "metadata": {
        "colab": {
          "base_uri": "https://localhost:8080/"
        },
        "id": "2bvtKWTyOfU7",
        "outputId": "0840e5f7-e5a7-4abb-ffef-7fb69bdd03e4"
      },
      "id": "2bvtKWTyOfU7",
      "execution_count": null,
      "outputs": [
        {
          "output_type": "stream",
          "name": "stdout",
          "text": [
            "1 2 \n",
            "3 4 \n",
            "5 6 \n"
          ]
        }
      ]
    },
    {
      "cell_type": "code",
      "source": [],
      "metadata": {
        "id": "wZAS86SkOq-T"
      },
      "id": "wZAS86SkOq-T",
      "execution_count": null,
      "outputs": []
    }
  ],
  "metadata": {
    "kernelspec": {
      "display_name": "Python 3 (ipykernel)",
      "language": "python",
      "name": "python3"
    },
    "language_info": {
      "codemirror_mode": {
        "name": "ipython",
        "version": 3
      },
      "file_extension": ".py",
      "mimetype": "text/x-python",
      "name": "python",
      "nbconvert_exporter": "python",
      "pygments_lexer": "ipython3",
      "version": "3.10.8"
    },
    "colab": {
      "provenance": []
    }
  },
  "nbformat": 4,
  "nbformat_minor": 5
}