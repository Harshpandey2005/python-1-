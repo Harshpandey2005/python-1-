{
  "nbformat": 4,
  "nbformat_minor": 0,
  "metadata": {
    "colab": {
      "provenance": []
    },
    "kernelspec": {
      "name": "python3",
      "display_name": "Python 3"
    },
    "language_info": {
      "name": "python"
    }
  },
  "cells": [
    {
      "cell_type": "code",
      "execution_count": null,
      "metadata": {
        "id": "1hXtCe8xWIJk"
      },
      "outputs": [],
      "source": [
        "# Que.1] Discuss the scenarios where multithreading is preferable to multiprocessing and scenarios where\n",
        "#multiprocessing is a better choice."
      ]
    },
    {
      "cell_type": "code",
      "source": [
        "# Ans.) Both multithreading and multiprocessing are techniques used to achieve concurrency in programs, but they are suited to different types of tasks. Here’s a breakdown of when each is preferable:\n",
        "\n",
        "# A}.  Multithreading:\n",
        "# Best for:\n",
        "\n",
        "#1. I/O-bound Tasks: Multithreading is ideal for scenarios where the program spends a lot of time waiting for I/O operations (like reading from a file or waiting for a network response). Threads can help you manage these wait times more efficiently by allowing other threads to run while one is waiting.\n",
        "\n",
        "#2. Shared Memory: Threads within the same process share the same memory space, which makes it easier to share data between threads. This is useful when threads need to frequently communicate or share state.\n",
        "\n",
        "#3. Low Overhead: Creating and managing threads is generally less resource-intensive than processes. Threads are lighter weight compared to processes, making them a good choice when you need to perform many lightweight tasks concurrently.\n",
        "\n",
        "#4. Real-time Applications: For applications that require real-time responsiveness (like handling user interface events or real-time data processing), multithreading can help keep the application responsive by offloading tasks to different threads.\n",
        "\n",
        "# Scenarios:\n",
        "'''\n",
        "Web servers handling multiple client requests.\n",
        "Applications with concurrent I/O operations, such as web scraping or file downloads.\n",
        "GUI applications needing to stay responsive while performing background tasks.\n",
        "'''\n",
        "# B}.Multiprocessing\n",
        "# Best for:\n",
        "\n",
        "#1. CPU-bound Tasks: Multiprocessing is better suited for CPU-intensive tasks where the program's performance is limited by the CPU's ability to process instructions. Since processes run in separate memory spaces and can be executed on different CPU cores, they can bypass the Global Interpreter Lock (GIL) in languages like Python, leading to true parallelism.\n",
        "\n",
        "#2. Isolation: Processes have their own memory space, which provides isolation. This is useful when tasks need to be isolated from each other to prevent one process from interfering with another. It can also help in preventing data corruption and enhancing stability.\n",
        "\n",
        "#3. Avoiding GIL Issues: In languages with a GIL, such as Python, multiprocessing allows you to bypass GIL constraints by using multiple processes instead of threads. This is particularly beneficial for CPU-bound tasks where parallelism is essential.\n",
        "\n",
        "#4. Fault Tolerance: Since processes are isolated, a failure in one process doesn’t necessarily affect others. This isolation can improve fault tolerance and make the program more robust.\n",
        "\n",
        "# Scenarios:\n",
        "'''\n",
        "a).Parallelizing complex calculations or data processing tasks.\n",
        "b).Running separate tasks that are computationally intensive and benefit from parallel execution on multiple CPU cores.\n",
        "c). Tasks that require robust isolation to prevent interference or corruption.\n",
        "'''"
      ],
      "metadata": {
        "colab": {
          "base_uri": "https://localhost:8080/",
          "height": 53
        },
        "id": "LbtxqK9HW0wg",
        "outputId": "35750abc-acc6-4b65-efe9-ab14e72e5847"
      },
      "execution_count": null,
      "outputs": [
        {
          "output_type": "execute_result",
          "data": {
            "text/plain": [
              "'\\na).Parallelizing complex calculations or data processing tasks.\\nb).Running separate tasks that are computationally intensive and benefit from parallel execution on multiple CPU cores.\\nc). Tasks that require robust isolation to prevent interference or corruption.\\n'"
            ],
            "application/vnd.google.colaboratory.intrinsic+json": {
              "type": "string"
            }
          },
          "metadata": {},
          "execution_count": 2
        }
      ]
    },
    {
      "cell_type": "code",
      "source": [
        "# Que.2]  Describe what a process pool is and how it helps in managing multiple processes efficiently?"
      ],
      "metadata": {
        "id": "3pczeNKyYt_c"
      },
      "execution_count": null,
      "outputs": []
    },
    {
      "cell_type": "code",
      "source": [
        "# Ans.) What is a Process Pool?\n",
        "# A process pool is a predefined number of worker processes that are created and managed by a pool manager. These worker processes are kept alive and can\n",
        "#be reused to execute multiple tasks, instead of creating and destroying processes repeatedly.\n",
        "\n",
        "# How It Helps in Managing Multiple Processes Efficiently:\n",
        "'''\n",
        "Reduced Overhead: Creating and destroying processes can be expensive. A process pool minimizes this overhead by reusing a fixed number of processes, which is more efficient than constantly spawning new processes.\n",
        "\n",
        "Improved Performance: By maintaining a pool of processes, you can avoid the delays associated with process creation and destruction. Tasks are executed more quickly because processes are readily available to handle new tasks.\n",
        "\n",
        "Better Resource Utilization: The process pool ensures that the system’s CPU and memory resources are used more effectively. With a fixed number of processes, the pool manager can allocate resources in a controlled manner, avoiding resource exhaustion.\n",
        "\n",
        "Simplified Management: Managing a fixed number of processes is simpler than managing an arbitrary number. The pool manager handles the complexities of scheduling and load balancing, allowing developers to focus on task logic.\n",
        "\n",
        "Scalability: Process pools can be scaled by adjusting the number of worker processes. This flexibility allows you to optimize performance based on the workload and available system resources.\n",
        "'''\n",
        "# Example in Python:\n",
        "#In Python, the concurrent.futures module provides a ProcessPoolExecutor that implements a process pool. Here’s a basic example:\n",
        "\n",
        "from concurrent.futures import ProcessPoolExecutor\n",
        "import os\n",
        "\n",
        "def worker_function(task_id):\n",
        "    print(f\"Process ID: {os.getpid()}, Task ID: {task_id}\")\n",
        "    # Perform the task here\n",
        "\n",
        "# Create a process pool with 4 worker processes\n",
        "with ProcessPoolExecutor(max_workers=4) as executor:\n",
        "    # Submit tasks to the pool\n",
        "    futures = [executor.submit(worker_function, i) for i in range(10)]\n",
        "\n",
        "    # Wait for all tasks to complete\n",
        "    for future in futures:\n",
        "        future.result()"
      ],
      "metadata": {
        "colab": {
          "base_uri": "https://localhost:8080/"
        },
        "id": "qlLeAw4BZCWQ",
        "outputId": "b4450e72-6898-456a-c484-3ef999b7f31b"
      },
      "execution_count": null,
      "outputs": [
        {
          "output_type": "stream",
          "name": "stdout",
          "text": [
            "Process ID: 3706, Task ID: 0Process ID: 3709, Task ID: 3Process ID: 3707, Task ID: 1Process ID: 3708, Task ID: 2\n",
            "\n",
            "\n",
            "\n",
            "Process ID: 3706, Task ID: 4Process ID: 3708, Task ID: 7Process ID: 3709, Task ID: 5\n",
            "\n",
            "Process ID: 3709, Task ID: 8Process ID: 3708, Task ID: 9\n",
            "\n",
            "Process ID: 3707, Task ID: 6\n",
            "\n"
          ]
        }
      ]
    },
    {
      "cell_type": "code",
      "source": [
        "# Que.3] Explain what multiprocessing is and why it is used in Python programs."
      ],
      "metadata": {
        "id": "9Ljl_0yqaJgz"
      },
      "execution_count": null,
      "outputs": []
    },
    {
      "cell_type": "code",
      "source": [
        "# Ans.) What is Multiprocessing?\n",
        "\n",
        "# Multiprocessing involves creating and managing multiple processes, where each process runs independently and has its own memory space. Unlike threads, which\n",
        "#share memory and may be limited by the Global Interpreter Lock (GIL) in Python, processes do not share memory and are fully isolated from each other.\n",
        "#This isolation allows processes to run in true parallel on multiple CPU cores.\n",
        "\n",
        "# Why is Multiprocessing Used in Python Programs?\n",
        "\n",
        "'''\n",
        "Bypassing the GIL: Python’s Global Interpreter Lock (GIL) allows only one thread to execute Python bytecode at a time within a single process. This can limit the performance of CPU-bound tasks in multi-threaded programs. Multiprocessing allows you to bypass the GIL by using separate processes, each with its own Python interpreter and memory space. This enables true parallel execution and can improve performance for CPU-bound tasks.\n",
        "\n",
        "Parallelism for CPU-bound Tasks: For tasks that require significant computation, such as data processing, numerical simulations, or large-scale computations, multiprocessing can take advantage of multiple CPU cores to execute these tasks in parallel. This can lead to significant speedups compared to running tasks sequentially.\n",
        "\n",
        "Isolation and Fault Tolerance: Processes are isolated from each other, meaning that a crash or error in one process does not affect others. This isolation provides robustness and fault tolerance, making multiprocessing suitable for scenarios where task failure should not impact the entire program.\n",
        "\n",
        "Improved Performance: By running tasks concurrently on different cores, multiprocessing can reduce the overall time required to complete a set of tasks. This is particularly beneficial when you need to perform many independent computations or handle multiple concurrent operations.\n",
        "\n",
        "Scalability: Multiprocessing allows you to scale applications by distributing work across multiple processes. You can adjust the number of processes based on the available CPU cores and the nature of the workload, enabling better resource utilization.\n",
        "'''\n",
        "# Example in Python:\n",
        "#Python’s multiprocessing module provides a variety of tools for working with processes. Here’s a basic example demonstrating how to use multiprocessing to parallelize a simple task:\n",
        "\n",
        "from multiprocessing import Process, current_process\n",
        "import os\n",
        "\n",
        "def worker_function(task_id):\n",
        "    print(f\"Process ID: {os.getpid()}, Task ID: {task_id}\")\n",
        "\n",
        "if __name__ == \"__main__\":\n",
        "    processes = []\n",
        "\n",
        "    # Create and start multiple processes\n",
        "    for i in range(4):\n",
        "        p = Process(target=worker_function, args=(i,))\n",
        "        processes.append(p)\n",
        "        p.start()\n",
        "\n",
        "    # Wait for all processes to complete\n",
        "    for p in processes:\n",
        "        p.join()"
      ],
      "metadata": {
        "colab": {
          "base_uri": "https://localhost:8080/"
        },
        "id": "xGK1mEvYa3Ih",
        "outputId": "58648aa2-229a-4a6e-dfbf-2042398556c3"
      },
      "execution_count": null,
      "outputs": [
        {
          "output_type": "stream",
          "name": "stdout",
          "text": [
            "Process ID: 5228, Task ID: 0\n",
            "Process ID: 5231, Task ID: 1\n",
            "Process ID: 5236, Task ID: 2Process ID: 5237, Task ID: 3\n",
            "\n"
          ]
        }
      ]
    },
    {
      "cell_type": "code",
      "source": [
        "# Que.4] . Write a Python program using multithreading where one thread adds numbers to a list, and another\n",
        "#thread removes numbers from the list. Implement a mechanism to avoid race conditions using threding.Lock."
      ],
      "metadata": {
        "id": "74u5pEa2bj6x"
      },
      "execution_count": null,
      "outputs": []
    },
    {
      "cell_type": "code",
      "source": [
        "# Ans.)\n",
        "import threading\n",
        "import time\n",
        "\n",
        "# Shared list and lock\n",
        "shared_list = []\n",
        "lock = threading.Lock()\n",
        "\n",
        "def add_numbers():\n",
        "    for i in range(10):\n",
        "        with lock:  # Acquire the lock before modifying the shared list\n",
        "            shared_list.append(i)\n",
        "            print(f\"Added {i} to list: {shared_list}\")\n",
        "        time.sleep(0.1)  # Simulate some delay\n",
        "\n",
        "def remove_numbers():\n",
        "    for _ in range(10):\n",
        "        with lock:  # Acquire the lock before modifying the shared list\n",
        "            if shared_list:\n",
        "                removed = shared_list.pop(0)\n",
        "                print(f\"Removed {removed} from list: {shared_list}\")\n",
        "        time.sleep(0.2)  # Simulate some delay\n",
        "\n",
        "if __name__ == \"__main__\":\n",
        "    # Create threads\n",
        "    add_thread = threading.Thread(target=add_numbers)\n",
        "    remove_thread = threading.Thread(target=remove_numbers)\n",
        "\n",
        "    # Start threads\n",
        "    add_thread.start()\n",
        "    remove_thread.start()\n",
        "\n",
        "    # Wait for threads to complete\n",
        "    add_thread.join()\n",
        "    remove_thread.join()\n",
        "\n",
        "    print(\"Final list:\", shared_list)\n"
      ],
      "metadata": {
        "colab": {
          "base_uri": "https://localhost:8080/"
        },
        "id": "rYHTJB7db_xt",
        "outputId": "209e1930-c2d0-47de-b5d9-586a78ce7fe6"
      },
      "execution_count": null,
      "outputs": [
        {
          "output_type": "stream",
          "name": "stdout",
          "text": [
            "Added 0 to list: [0]\n",
            "Removed 0 from list: []\n",
            "Added 1 to list: [1]\n",
            "Added 2 to list: [1, 2]\n",
            "Removed 1 from list: [2]\n",
            "Added 3 to list: [2, 3]\n",
            "Added 4 to list: [2, 3, 4]\n",
            "Removed 2 from list: [3, 4]\n",
            "Added 5 to list: [3, 4, 5]\n",
            "Added 6 to list: [3, 4, 5, 6]\n",
            "Removed 3 from list: [4, 5, 6]\n",
            "Added 7 to list: [4, 5, 6, 7]\n",
            "Added 8 to list: [4, 5, 6, 7, 8]\n",
            "Removed 4 from list: [5, 6, 7, 8]\n",
            "Added 9 to list: [5, 6, 7, 8, 9]\n",
            "Removed 5 from list: [6, 7, 8, 9]\n",
            "Removed 6 from list: [7, 8, 9]\n",
            "Removed 7 from list: [8, 9]\n",
            "Removed 8 from list: [9]\n",
            "Removed 9 from list: []\n",
            "Final list: []\n"
          ]
        }
      ]
    },
    {
      "cell_type": "code",
      "source": [
        "# Que.5] Describe the methods and tools available in Python for safely sharing data between threads and process."
      ],
      "metadata": {
        "id": "wqFaMQEScSLW"
      },
      "execution_count": null,
      "outputs": []
    },
    {
      "cell_type": "code",
      "source": [
        "# Ans.)\n",
        "# Sharing Data Between Threads>>\n",
        "\n",
        "#1. threading.Lock:\n",
        "\n",
        "#Description: A lock provides mutual exclusion, allowing only one thread to access a critical section of code at a time. It is commonly used to protect shared resources from concurrent access.\n",
        "#usage:\n",
        "'''\n",
        "import threading\n",
        "\n",
        "lock = threading.Lock()\n",
        "\n",
        "def thread_safe_function():\n",
        "    with lock:\n",
        "        # Code that accesses shared resources\n",
        "'''\n",
        "\n",
        "#2. threading.RLock:\n",
        "\n",
        "#Description: A reentrant lock allows a thread to acquire the same lock multiple times without causing a deadlock. It is useful if a thread needs to acquire the lock recursively.\n",
        "#Usage:\n",
        "'''\n",
        "import threading\n",
        "\n",
        "rlock = threading.RLock()\n",
        "\n",
        "def thread_safe_function():\n",
        "    with rlock:\n",
        "        # Code that acquires the lock multiple times\n",
        "'''\n",
        "\n",
        "#3. threading.Condition:\n",
        "\n",
        "#Description: A condition variable allows threads to wait until a particular condition is met. It is used for more complex thread synchronization scenarios.\n",
        "#Usage:\n",
        "'''\n",
        "import threading\n",
        "\n",
        "condition = threading.Condition()\n",
        "\n",
        "def producer():\n",
        "    with condition:\n",
        "        # Produce an item\n",
        "        condition.notify()  # Notify waiting threads\n",
        "\n",
        "def consumer():\n",
        "    with condition:\n",
        "        condition.wait()  # Wait for the condition\n",
        "        # Consume the item\n",
        "'''\n",
        "\n",
        "#4. threading.Semaphore:\n",
        "\n",
        "#Description: A semaphore manages a counter that controls access to a shared resource. It can be used to limit the number of threads accessing a resource concurrently.\n",
        "#Usage:\n",
        "'''\n",
        "import threading\n",
        "\n",
        "semaphore = threading.Semaphore(3)  # Limit to 3 concurrent threads\n",
        "\n",
        "def thread_safe_function():\n",
        "    with semaphore:\n",
        "        # Code that accesses shared resources\n",
        "'''\n",
        "\n",
        "#5. queue.Queue:\n",
        "\n",
        "#Description: A thread-safe queue for passing data between threads. It provides thread-safe operations for adding and removing items.\n",
        "#Usage:\n",
        "'''\n",
        "import queue\n",
        "import threading\n",
        "\n",
        "q = queue.Queue()\n",
        "\n",
        "def producer():\n",
        "    q.put(item)\n",
        "\n",
        "def consumer():\n",
        "    item = q.get()\n",
        "    # Process the item\n",
        "'''\n",
        "\n",
        "# Sharing Data Between Processes>>\n",
        "\n",
        "#1. multiprocessing.Lock:\n",
        "\n",
        "#Description: Similar to threading.Lock, it provides mutual exclusion for processes. It is used to protect shared resources from concurrent access by multiple processes.\n",
        "#Usage:\n",
        "'''\n",
        "from multiprocessing import Lock\n",
        "\n",
        "lock = Lock()\n",
        "\n",
        "def process_safe_function():\n",
        "    with lock:\n",
        "        # Code that accesses shared resources\n",
        "'''\n",
        "\n",
        "#2. multiprocessing.Manager:\n",
        "\n",
        "#Description: A manager object provides a way to create shared objects (like lists, dictionaries) that can be safely used by multiple processes.\n",
        "#Usage:\n",
        "'''\n",
        "from multiprocessing import Manager\n",
        "\n",
        "manager = Manager()\n",
        "shared_list = manager.list()\n",
        "shared_dict = manager.dict()\n",
        "\n",
        "# Access shared_list and shared_dict from multiple processes\n",
        "'''\n",
        "\n",
        "#3. multiprocessing.Queue:\n",
        "\n",
        "#Description: A process-safe queue for passing data between processes. It supports both FIFO and LIFO ordering.\n",
        "#Usage:\n",
        "'''\n",
        "from multiprocessing import Queue, Process\n",
        "\n",
        "q = Queue()\n",
        "\n",
        "def producer():\n",
        "    q.put(item)\n",
        "\n",
        "def consumer():\n",
        "    item = q.get()\n",
        "    # Process the item\n",
        "'''\n",
        "\n",
        "#4. multiprocessing.Pipe:\n",
        "\n",
        "#Description: A pipe provides a way for two processes to communicate by sending data through a pipe object. It supports duplex (two-way) communication.\n",
        "#Usage:\n",
        "'''\n",
        "from multiprocessing import Pipe, Process\n",
        "\n",
        "def producer(conn):\n",
        "    conn.send(item)\n",
        "    conn.close()\n",
        "\n",
        "def consumer(conn):\n",
        "    item = conn.recv()\n",
        "    # Process the item\n",
        "\n",
        "parent_conn, child_conn = Pipe()\n",
        "p1 = Process(target=producer, args=(parent_conn,))\n",
        "p2 = Process(target=consumer, args=(child_conn,))\n",
        "p1.start()\n",
        "p2.start()\n",
        "p1.join()\n",
        "p2.join()\n",
        "'''\n",
        "\n",
        "#5. multiprocessing.Value and multiprocessing.Array:\n",
        "\n",
        "#Description: These are shared memory objects that can be used to share simple data types or arrays between processes.\n",
        "#Usage:\n",
        "'''\n",
        "from multiprocessing import Value, Array, Process\n",
        "\n",
        "shared_value = Value('i', 0)  # Shared integer\n",
        "shared_array = Array('i', range(10))  # Shared array\n",
        "\n",
        "def modify_value():\n",
        "    shared_value.value += 1\n",
        "\n",
        "def modify_array():\n",
        "    for i in range(len(shared_array)):\n",
        "        shared_array[i] += 1\n",
        "\n",
        "p1 = Process(target=modify_value)\n",
        "p2 = Process(target=modify_array)\n",
        "p1.start()\n",
        "p2.start()\n",
        "p1.join()\n",
        "p2.join()\n",
        "'''"
      ],
      "metadata": {
        "colab": {
          "base_uri": "https://localhost:8080/",
          "height": 70
        },
        "id": "qlEqSlDkceS1",
        "outputId": "fa148b02-2563-42ae-a7e0-3d88260f246d"
      },
      "execution_count": null,
      "outputs": [
        {
          "output_type": "execute_result",
          "data": {
            "text/plain": [
              "\"\\nfrom multiprocessing import Value, Array, Process\\n\\nshared_value = Value('i', 0)  # Shared integer\\nshared_array = Array('i', range(10))  # Shared array\\n\\ndef modify_value():\\n    shared_value.value += 1\\n\\ndef modify_array():\\n    for i in range(len(shared_array)):\\n        shared_array[i] += 1\\n\\np1 = Process(target=modify_value)\\np2 = Process(target=modify_array)\\np1.start()\\np2.start()\\np1.join()\\np2.join()\\n\""
            ],
            "application/vnd.google.colaboratory.intrinsic+json": {
              "type": "string"
            }
          },
          "metadata": {},
          "execution_count": 12
        }
      ]
    },
    {
      "cell_type": "code",
      "source": [
        "# Que.6] Discuss why it’s crucial to handle exceptions in concurrent programs and the techniques available for doing so."
      ],
      "metadata": {
        "id": "FokKUQR8nNmI"
      },
      "execution_count": null,
      "outputs": []
    },
    {
      "cell_type": "code",
      "source": [
        "# Ans.) Handling exceptions in concurrent programs is crucial for several reasons:\n",
        "\n",
        "#1. System Stability and Consistency:\n",
        "#Uncaught Exceptions: If exceptions in concurrent tasks are not properly handled, they can cause threads or processes to terminate prematurely, potentially leaving shared resources (such as files, network sockets, or databases) in an inconsistent or locked state.\n",
        "#Data Corruption: In concurrent programs, multiple threads or processes might be modifying shared data simultaneously. If an exception is raised and not properly managed, it could interrupt the operation midway, corrupting shared data.\n",
        "\n",
        "#2. Error Propagation and Debugging:\n",
        "#Silent Failures: Without exception handling, errors in individual threads or processes may go unnoticed, making it difficult to diagnose or track down the root cause of the failure.\n",
        "#Error Propagation: Proper handling ensures that exceptions are propagated and reported in a way that makes debugging easier. For example, exceptions occurring in worker threads should be communicated to the main thread or error logging mechanisms.\n",
        "\n",
        "#3. Graceful Shutdown and Resource Cleanup:\n",
        "#Resource Leaks: If a concurrent task throws an exception without handling it, it may not release resources like file handles, memory, or database connections. Proper exception handling ensures that these resources are cleaned up, for example, using try-finally blocks or context managers.\n",
        "#Graceful Shutdown: Handling exceptions allows programs to perform cleanup operations, such as notifying other threads or saving the current state before shutting down.\n",
        "\n",
        "# 4. Deadlock Prevention:\n",
        "#Unhandled exceptions in one part of a concurrent system can cause other parts to deadlock, especially if locks or other synchronization mechanisms are involved. Exception handling can help avoid leaving threads or processes waiting indefinitely for resources that will never be released.\n",
        "\n",
        "# Techniques for Handling Exceptions in Concurrent Programs\n",
        "\n",
        "# 1. Try-Catch/Finally Blocks:\n",
        "#This is the basic mechanism for handling exceptions in any program. In concurrent contexts, it ensures that exceptions within a thread or task are caught and handled. For example, using a finally block ensures resource cleanup even when exceptions occur.\n",
        "'''\n",
        "try:\n",
        "    # Perform concurrent task\n",
        "except Exception as e:\n",
        "    # Handle exception\n",
        "finally:\n",
        "    # Cleanup code\n",
        "'''\n",
        "\n",
        "# 2. Thread Pool Executors (Python concurrent.futures):\n",
        "#In Python, ThreadPoolExecutor and ProcessPoolExecutor allow for concurrent execution of tasks. They provide a mechanism for handling exceptions via future objects.\n",
        "'''\n",
        "from concurrent.futures import ThreadPoolExecutor\n",
        "\n",
        "def task():\n",
        "    # Perform some task\n",
        "    raise ValueError(\"Error occurred\")\n",
        "\n",
        "with ThreadPoolExecutor() as executor:\n",
        "    future = executor.submit(task)\n",
        "    try:\n",
        "        future.result()  # Will raise exception from the thread\n",
        "    except Exception as e:\n",
        "        print(f\"Exception in thread: {e}\")\n",
        "'''\n",
        "\n",
        "# 3. Handling Exceptions in Threads (Python threading Module):\n",
        "#When using the threading module, exceptions occurring in threads can be hard to catch directly since they are handled inside the thread. Wrapping thread logic in try-catch blocks or using thread-safe data structures to report exceptions back to the main thread is a common strategy.\n",
        "'''\n",
        "import threading\n",
        "\n",
        "def worker():\n",
        "    try:\n",
        "        # Perform some operation\n",
        "        raise ValueError(\"An error occurred in the thread\")\n",
        "    except Exception as e:\n",
        "        print(f\"Caught exception in thread: {e}\")\n",
        "\n",
        "thread = threading.Thread(target=worker)\n",
        "thread.start()\n",
        "thread.join()  # Ensure thread completion\n",
        "'''\n",
        "\n",
        "# 4. Using asyncio for Asynchronous Tasks:\n",
        "#Python’s asyncio library allows managing concurrent tasks with asynchronous I/O. Exception handling in coroutines is achieved by using try-except blocks within async functions.\n",
        "'''\n",
        "import asyncio\n",
        "\n",
        "async def task():\n",
        "    try:\n",
        "        # Perform asynchronous task\n",
        "        raise ValueError(\"Error in async task\")\n",
        "    except Exception as e:\n",
        "        print(f\"Handled exception: {e}\")\n",
        "\n",
        "asyncio.run(task())\n",
        "'''\n",
        "\n",
        "# 5. Exception Handling in Message Passing (Actors Model):\n",
        "#In actor-based concurrency models, like those found in Akka (for Java/Scala) or Erlang, actors communicate via messages. Exceptions are handled by sending failure messages to supervisory actors, allowing the system to recover or restart failed actors.\n",
        "\n",
        "# 6. Global Exception Handlers (Signal Handling):\n",
        "#Some systems rely on global exception handlers to catch exceptions that occur across multiple threads or processes, which can then trigger a graceful shutdown or corrective measures. This is especially useful for uncaught exceptions that escape the typical try-catch mechanism.\n",
        "\n",
        "# 7. Using Locks, Semaphores, and Context Managers:\n",
        "'''\n",
        "from threading import Lock\n",
        "\n",
        "lock = Lock()\n",
        "\n",
        "with lock:\n",
        "    try:\n",
        "        # Critical section\n",
        "        raise ValueError(\"Error\")\n",
        "    finally:\n",
        "        # Lock is released automatically after block ends\n",
        "        '''"
      ],
      "metadata": {
        "id": "EifCxilfc-G9",
        "colab": {
          "base_uri": "https://localhost:8080/",
          "height": 53
        },
        "outputId": "3a210836-9256-4d3a-de94-0e7dbff57e7a"
      },
      "execution_count": 1,
      "outputs": [
        {
          "output_type": "execute_result",
          "data": {
            "text/plain": [
              "'\\nfrom threading import Lock\\n\\nlock = Lock()\\n\\nwith lock:\\n    try:\\n        # Critical section\\n        raise ValueError(\"Error\")\\n    finally:\\n        # Lock is released automatically after block ends\\n        '"
            ],
            "application/vnd.google.colaboratory.intrinsic+json": {
              "type": "string"
            }
          },
          "metadata": {},
          "execution_count": 1
        }
      ]
    },
    {
      "cell_type": "code",
      "source": [
        "# Que.7]  Create a program that uses a thread pool to calculate the factorial of numbers from 1 to 10 concurrently. Use concurrent.futures.ThreadPoolExecutor to manage the threads."
      ],
      "metadata": {
        "id": "SqfLG-h8wPFC"
      },
      "execution_count": 2,
      "outputs": []
    },
    {
      "cell_type": "code",
      "source": [
        "# Ans.)\n",
        "from concurrent.futures import ThreadPoolExecutor  # Correct import\n",
        "import math\n",
        "\n",
        "# Function to calculate factorial\n",
        "def factorial(n):\n",
        "    print(f\"Calculating factorial of {n}\")\n",
        "    return math.factorial(n)\n",
        "\n",
        "# Function to use ThreadPoolExecutor for concurrent execution\n",
        "def calculate_factorials_concurrently():\n",
        "    numbers = list(range(1, 11))  # Numbers from 1 to 10\n",
        "    results = {}\n",
        "\n",
        "    # Using ThreadPoolExecutor to manage threads\n",
        "    with ThreadPoolExecutor() as executor:\n",
        "        # Submit tasks to the executor for each number\n",
        "        future_to_num = {executor.submit(factorial, num): num for num in numbers}\n",
        "\n",
        "        # Collect the results as they complete\n",
        "        for future in future_to_num:\n",
        "            num = future_to_num[future]\n",
        "            try:\n",
        "                result = future.result()  # Get result from future\n",
        "                results[num] = result\n",
        "            except Exception as exc:\n",
        "                print(f\"Generated an exception for {num}: {exc}\")\n",
        "\n",
        "    return results\n",
        "\n",
        "# Run the concurrent factorial calculation\n",
        "if __name__ == \"__main__\":\n",
        "    factorial_results = calculate_factorials_concurrently()\n",
        "    for num, result in factorial_results.items():\n",
        "        print(f\"Factorial of {num} is {result}\")\n",
        "\n"
      ],
      "metadata": {
        "colab": {
          "base_uri": "https://localhost:8080/"
        },
        "id": "xnldzlkyxRrY",
        "outputId": "6f740fb4-8620-4aad-9b75-20a13da07d6c"
      },
      "execution_count": 5,
      "outputs": [
        {
          "output_type": "stream",
          "name": "stdout",
          "text": [
            "Calculating factorial of 1Calculating factorial of 2\n",
            "Calculating factorial of 3\n",
            "\n",
            "Calculating factorial of 4Calculating factorial of 5\n",
            "Calculating factorial of 6\n",
            "Calculating factorial of 7\n",
            "\n",
            "Calculating factorial of 8Calculating factorial of 9\n",
            "Calculating factorial of 10\n",
            "\n",
            "Factorial of 1 is 1\n",
            "Factorial of 2 is 2\n",
            "Factorial of 3 is 6\n",
            "Factorial of 4 is 24\n",
            "Factorial of 5 is 120\n",
            "Factorial of 6 is 720\n",
            "Factorial of 7 is 5040\n",
            "Factorial of 8 is 40320\n",
            "Factorial of 9 is 362880\n",
            "Factorial of 10 is 3628800\n"
          ]
        }
      ]
    },
    {
      "cell_type": "code",
      "source": [
        "# Que.8] Create a Python program that uses multiprocessing.Pool to compute the square of numbers from 1 to 10 in\n",
        "#parallel. Measure the time taken to perform this computation using a pool of different sizes (e.g., 2, 4, 8 processes)?"
      ],
      "metadata": {
        "id": "flaBJw29xyaR"
      },
      "execution_count": 6,
      "outputs": []
    },
    {
      "cell_type": "code",
      "source": [
        "# Ans.)\n",
        "import multiprocessing\n",
        "import time\n",
        "\n",
        "# Function to compute the square of a number\n",
        "def square(n):\n",
        "    return n * n\n",
        "\n",
        "# Function to compute squares using a multiprocessing pool\n",
        "def compute_squares(pool_size):\n",
        "    numbers = list(range(1, 11))  # Numbers from 1 to 10\n",
        "    with multiprocessing.Pool(pool_size) as pool:\n",
        "        start_time = time.time()  # Start time measurement\n",
        "        results = pool.map(square, numbers)  # Perform parallel computation\n",
        "        end_time = time.time()  # End time measurement\n",
        "\n",
        "    elapsed_time = end_time - start_time\n",
        "    return results, elapsed_time\n",
        "\n",
        "# Main function to run the computation for different pool sizes\n",
        "if __name__ == \"__main__\":\n",
        "    pool_sizes = [2, 4, 8]  # Different pool sizes to test\n",
        "\n",
        "    for size in pool_sizes:\n",
        "        results, elapsed_time = compute_squares(size)\n",
        "        print(f\"Pool Size: {size}\")\n",
        "        print(f\"Squares: {results}\")\n",
        "        print(f\"Time Taken: {elapsed_time:.4f} seconds\\n\")\n"
      ],
      "metadata": {
        "colab": {
          "base_uri": "https://localhost:8080/"
        },
        "id": "mnygufU8ydhS",
        "outputId": "d1dfb6c5-c8f0-458e-ae96-98ec790c6dc2"
      },
      "execution_count": 7,
      "outputs": [
        {
          "output_type": "stream",
          "name": "stdout",
          "text": [
            "Pool Size: 2\n",
            "Squares: [1, 4, 9, 16, 25, 36, 49, 64, 81, 100]\n",
            "Time Taken: 0.0037 seconds\n",
            "\n",
            "Pool Size: 4\n",
            "Squares: [1, 4, 9, 16, 25, 36, 49, 64, 81, 100]\n",
            "Time Taken: 0.0035 seconds\n",
            "\n",
            "Pool Size: 8\n",
            "Squares: [1, 4, 9, 16, 25, 36, 49, 64, 81, 100]\n",
            "Time Taken: 0.0019 seconds\n",
            "\n"
          ]
        }
      ]
    },
    {
      "cell_type": "code",
      "source": [],
      "metadata": {
        "id": "U6WUzrYnyyoy"
      },
      "execution_count": null,
      "outputs": []
    }
  ]
}