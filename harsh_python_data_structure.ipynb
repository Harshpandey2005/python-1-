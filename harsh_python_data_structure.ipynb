{
  "nbformat": 4,
  "nbformat_minor": 0,
  "metadata": {
    "colab": {
      "provenance": []
    },
    "kernelspec": {
      "name": "python3",
      "display_name": "Python 3"
    },
    "language_info": {
      "name": "python"
    }
  },
  "cells": [
    {
      "cell_type": "code",
      "execution_count": null,
      "metadata": {
        "id": "5ElyDgZBfvtk"
      },
      "outputs": [],
      "source": [
        "# 1). Discuss string slicing and provide examples?"
      ]
    },
    {
      "cell_type": "code",
      "source": [
        "## String slicing is a technique in Python that allows you to access a portion (substring) of a string.It uses the colon (:) operator within square brackets. The general syntax for string slicing is:\n",
        "# string[start:end:step]\n",
        "#start: The starting index of the slice (inclusive). If omitted, it defaults to 0.\n",
        "#end: The ending index of the slice (exclusive). If omitted, it defaults to the length of the string.\n",
        "#step: The step size or interval between characters. If omitted, it defaults to 1.\n",
        "#Here are some examples to illustrate string slicing:\n",
        "\n",
        "# a).Basic slicing\n",
        "text = \"Hello, World!\"\n",
        "\n",
        "# Slicing from index 0 to 5 (exclusive)\n",
        "slice1 = text[0:5]\n",
        "print(slice1)\n",
        "\n",
        "# Slicing from index 7 to the end\n",
        "slice2 = text[7:]\n",
        "print(slice2)\n",
        "\n",
        "# Slicing from the start to index 5 (exclusive)\n",
        "slice3 = text[:5]\n",
        "print(slice3)\n",
        "\n",
        "# Slicing the entire string\n",
        "slice4 = text[:]\n",
        "print(slice4)\n"
      ],
      "metadata": {
        "colab": {
          "base_uri": "https://localhost:8080/"
        },
        "id": "9mwRcpxMiHfW",
        "outputId": "1a35dac2-f538-4d19-f44e-081eb1827328"
      },
      "execution_count": null,
      "outputs": [
        {
          "output_type": "stream",
          "name": "stdout",
          "text": [
            "Hello\n",
            "World!\n",
            "Hello\n",
            "Hello, World!\n"
          ]
        }
      ]
    },
    {
      "cell_type": "code",
      "source": [
        "# b).Using Negative Indices: Negative indices count from the end of the string.\n",
        "text = \"Hello, World!\"\n",
        "\n",
        "# Slicing from index -6 to the end\n",
        "slice5 = text[-6:]\n",
        "print(slice5)\n",
        "\n",
        "# Slicing from the start to index -7 (exclusive)\n",
        "slice6 = text[:-7]\n",
        "print(slice6)\n"
      ],
      "metadata": {
        "colab": {
          "base_uri": "https://localhost:8080/"
        },
        "id": "Cv67SGIYilCD",
        "outputId": "bedff3c4-1c82-43ac-a37c-c9ee1adbc77b"
      },
      "execution_count": null,
      "outputs": [
        {
          "output_type": "stream",
          "name": "stdout",
          "text": [
            "World!\n",
            "Hello,\n"
          ]
        }
      ]
    },
    {
      "cell_type": "code",
      "source": [
        "# c).Using Step:The step value determines the interval between indices.\n",
        "text = \"Hello, World!\"\n",
        "\n",
        "# Slicing every second character from index 0 to the end\n",
        "slice7 = text[::2]\n",
        "print(slice7)\n",
        "\n",
        "# Slicing every second character from index 1 to the end\n",
        "slice8 = text[1::2]\n",
        "print(slice8)\n",
        "\n",
        "# Revrsing the string\n",
        "slice9 = text[::-1]\n",
        "print(slice9)"
      ],
      "metadata": {
        "colab": {
          "base_uri": "https://localhost:8080/"
        },
        "id": "aGr6EWX7l1i8",
        "outputId": "411a2c0b-bc4f-49c0-97a4-640fa9e7053d"
      },
      "execution_count": null,
      "outputs": [
        {
          "output_type": "stream",
          "name": "stdout",
          "text": [
            "Hlo ol!\n",
            "el,Wrd\n",
            "!dlroW ,olleH\n"
          ]
        }
      ]
    },
    {
      "cell_type": "code",
      "source": [
        "# d).Combining Indices and Step:\n",
        "text = \"Hello, World!\"\n",
        "\n",
        "# Slicing from index 2 to 8 (exclusive) with a step of 2\n",
        "slice10 = text[2:8:2]\n",
        "print(slice10)\n",
        "\n",
        "# Slicing from index -8 to -2 (exclusive) with a step of 2\n",
        "slice11 = text[-8:-2:2]\n",
        "print(slice11)\n"
      ],
      "metadata": {
        "colab": {
          "base_uri": "https://localhost:8080/"
        },
        "id": "jNyH7ZuWmpsT",
        "outputId": "7ef2828e-ccfa-4523-b197-fae14f6cc98e"
      },
      "execution_count": null,
      "outputs": [
        {
          "output_type": "stream",
          "name": "stdout",
          "text": [
            "lo \n",
            ",Wr\n"
          ]
        }
      ]
    },
    {
      "cell_type": "code",
      "source": [
        "# 2). Explain the key features of lists in Python?"
      ],
      "metadata": {
        "id": "hw9LyB1unLPt"
      },
      "execution_count": null,
      "outputs": []
    },
    {
      "cell_type": "code",
      "source": [
        "##  Here are some key features of lists in Python:\n",
        "# a). Ordered Collection:Lists maintain the order of elements. The order in which elements are inserted is the order in which they are accessed.\n",
        "# b). Mutable:Lists are mutable, meaning their elements can be changed after the list has been created. You can add, remove, or modify elements.\n",
        "# c). Heterogeneous Elements:Lists can contain elements of different data types, including integers, floats, strings, and even other lists.\n",
        "# d). Dynamic Size:Lists in Python can grow and shrink dynamically as you add and remove elements. There is no need to declare the size of a list beforehand.\n",
        "# e). Indexing and Slicing:You can access elements in a list using indexing and slicing. Positive indices start from 0, and negative indices start from -1 (last element).\n",
        "# f). Comprehensive Methods:Lists come with a variety of built-in methods for performing common operations like adding, removing, and searching for elements. Some of these methods include append(), extend(), insert(), remove(), pop(), clear(), index(), count(), sort(), and reverse().\n",
        "# g). Iteration:Lists support iteration, allowing you to loop through elements using a for loop or other iterative techniques.\n",
        "# h). List Comprehensions:Python provides a concise way to create lists using list comprehensions, which can be used to generate lists based on existing lists and other iterable objects.\n",
        "# i). Nested Lists:Lists can contain other lists as elements, allowing the creation of multidimensional arrays or matrices.\n",
        "\n",
        "# Examples:\n",
        "# Creating a list\n",
        "my_list = [1, 2, 3, 4, 5]\n",
        "\n",
        "# Accessing elements\n",
        "print(my_list[0])  # Output: 1\n",
        "print(my_list[-1])  # Output: 5\n",
        "\n",
        "# Modifying elements\n",
        "my_list[2] = 10\n",
        "print(my_list)  # Output: [1, 2, 10, 4, 5]\n",
        "\n",
        "# Adding elements\n",
        "my_list.append(6)\n",
        "print(my_list)  # Output: [1, 2, 10, 4, 5, 6]\n",
        "\n",
        "# Removing elements\n",
        "my_list.remove(10)\n",
        "print(my_list)  # Output: [1, 2, 4, 5, 6]\n",
        "\n",
        "# Slicing a list\n",
        "print(my_list[1:4])  # Output: [2, 4, 5]\n",
        "\n",
        "# List comprehension\n",
        "squares = [x**2 for x in my_list]\n",
        "print(squares)  # Output: [1, 4, 16, 25, 36]\n",
        "\n",
        "# Nested list\n",
        "nested_list = [[1, 2, 3], [4, 5, 6]]\n",
        "print(nested_list[1][2])  # Output: 6\n",
        "\n",
        "# Iterating over a list\n",
        "for element in my_list:\n",
        "    print(element)\n",
        "# Output:\n",
        "# 1\n",
        "# 2\n",
        "# 4\n",
        "# 5\n",
        "# 6\n",
        "\n",
        "\n",
        "\n",
        "\n",
        "\n",
        "\n",
        "\n"
      ],
      "metadata": {
        "colab": {
          "base_uri": "https://localhost:8080/"
        },
        "id": "c2xQmI6isZWd",
        "outputId": "c11c41fa-f10c-446d-dfda-be5d16e0d771"
      },
      "execution_count": null,
      "outputs": [
        {
          "output_type": "stream",
          "name": "stdout",
          "text": [
            "1\n",
            "5\n",
            "[1, 2, 10, 4, 5]\n",
            "[1, 2, 10, 4, 5, 6]\n",
            "[1, 2, 4, 5, 6]\n",
            "[2, 4, 5]\n",
            "[1, 4, 16, 25, 36]\n",
            "6\n",
            "1\n",
            "2\n",
            "4\n",
            "5\n",
            "6\n"
          ]
        }
      ]
    },
    {
      "cell_type": "code",
      "source": [
        "# 3). Describe how to access, modify, and delete elements in a list with examples?"
      ],
      "metadata": {
        "id": "niGIaJCrutjQ"
      },
      "execution_count": null,
      "outputs": []
    },
    {
      "cell_type": "code",
      "source": [
        "## Here are detailed explanations and examples for each operation:\n",
        "\n",
        "# A). Accessing Elements>>\n",
        "# 1].By Index : You can access elements of a list using their index. Positive indices start from 0, and negative indices start from -1 (last element).\n",
        "my_list = [10, 20, 30, 40, 50]\n",
        "\n",
        "# Accessing elements by positive index\n",
        "print(my_list[0])\n",
        "print(my_list[2])\n",
        "\n",
        "# Accessing elements by negative index\n",
        "print(my_list[-1])\n",
        "print(my_list[-3])\n"
      ],
      "metadata": {
        "colab": {
          "base_uri": "https://localhost:8080/"
        },
        "id": "tMrYlxU_Y_2u",
        "outputId": "b7002f48-3a1b-42a9-b73b-047091599b43"
      },
      "execution_count": null,
      "outputs": [
        {
          "output_type": "stream",
          "name": "stdout",
          "text": [
            "10\n",
            "30\n",
            "50\n",
            "30\n"
          ]
        }
      ]
    },
    {
      "cell_type": "code",
      "source": [
        "# 2].By Slicing : You can access a range of elements using slicing.\n",
        "my_list = [10, 20, 30, 40, 50]\n",
        "\n",
        "# Slicing from index 1 to 4 (exclusive)\n",
        "print(my_list[1:4])\n",
        "\n",
        "# Slicing with step\n",
        "print(my_list[0:5:2])\n",
        "\n",
        "# Slicing with negative indices\n",
        "print(my_list[-4:-1])\n"
      ],
      "metadata": {
        "colab": {
          "base_uri": "https://localhost:8080/"
        },
        "id": "K1KaAyUKZXvw",
        "outputId": "9e4ef5de-c56e-494a-ab8e-365cf04595fa"
      },
      "execution_count": null,
      "outputs": [
        {
          "output_type": "stream",
          "name": "stdout",
          "text": [
            "[20, 30, 40]\n",
            "[10, 30, 50]\n",
            "[20, 30, 40]\n"
          ]
        }
      ]
    },
    {
      "cell_type": "code",
      "source": [
        "# B). Modifying Elements>>\n",
        "# 1].By Index : You can modify elements by directly assigning a new value to a specific index.\n",
        "my_list = [10, 20, 30, 40, 50]\n",
        "\n",
        "# Modifying the element at index 2\n",
        "my_list[2] = 35\n",
        "print(my_list)\n",
        "\n",
        "# Modifying the element at the last index\n",
        "my_list[-1] = 55\n",
        "print(my_list)\n"
      ],
      "metadata": {
        "colab": {
          "base_uri": "https://localhost:8080/"
        },
        "id": "AjEuUpOGaugd",
        "outputId": "97e8b177-1654-44dd-8315-01e1ee714416"
      },
      "execution_count": null,
      "outputs": [
        {
          "output_type": "stream",
          "name": "stdout",
          "text": [
            "[10, 20, 35, 40, 50]\n",
            "[10, 20, 35, 40, 55]\n"
          ]
        }
      ]
    },
    {
      "cell_type": "code",
      "source": [
        "#2].By Slicing : You can modify multiple elements using slicing.\n",
        "my_list = [10, 20, 30, 40, 50]\n",
        "\n",
        "# Modifying elements from index 1 to 3 (exclusive)\n",
        "my_list[1:3] = [25, 35]\n",
        "print(my_list)\n",
        "\n",
        "# Modify elements from index 1 to 8 with step 3\n",
        "my_list[1:4:2] = [100, 200,]\n",
        "print(my_list)\n",
        "\n"
      ],
      "metadata": {
        "colab": {
          "base_uri": "https://localhost:8080/"
        },
        "id": "6ZBeBNlObDxR",
        "outputId": "f721ecc1-d3b2-4351-9f8c-71d2f60fb136"
      },
      "execution_count": null,
      "outputs": [
        {
          "output_type": "stream",
          "name": "stdout",
          "text": [
            "[10, 25, 35, 40, 50]\n",
            "[10, 100, 35, 200, 50]\n"
          ]
        }
      ]
    },
    {
      "cell_type": "code",
      "source": [
        "# C). Deleting Elements>>You can delete elements from a list using several methods:\n",
        "# a).del statement\n",
        "# b).remove() method\n",
        "# c).pop() method\n",
        "# d).clear() method (to remove all elements)\n",
        "\n",
        "# a).Using 'del' Statement:\n",
        "my_list = [10, 20, 30, 40, 50]\n",
        "\n",
        "# Deleting an element by index\n",
        "del my_list[2]\n",
        "print(my_list)\n",
        "\n",
        "# Deleting a slice of elements\n",
        "del my_list[1:3]\n",
        "print(my_list)\n"
      ],
      "metadata": {
        "colab": {
          "base_uri": "https://localhost:8080/"
        },
        "id": "_quGB6RTcprQ",
        "outputId": "fd1f4b79-0dcb-47a1-d3f6-f32aea5f8118"
      },
      "execution_count": null,
      "outputs": [
        {
          "output_type": "stream",
          "name": "stdout",
          "text": [
            "[10, 20, 40, 50]\n",
            "[10, 50]\n"
          ]
        }
      ]
    },
    {
      "cell_type": "code",
      "source": [
        "# b).Using remove() Method : The remove() method removes the first occurrence of a specified value.\n",
        "my_list = [10, 20, 30, 40, 50]\n",
        "\n",
        "# Removing an element by value\n",
        "my_list.remove(30)\n",
        "print(my_list)\n"
      ],
      "metadata": {
        "colab": {
          "base_uri": "https://localhost:8080/"
        },
        "id": "OR0_tFn0hrTK",
        "outputId": "f0819eb7-e583-480b-a559-91c97c96128f"
      },
      "execution_count": null,
      "outputs": [
        {
          "output_type": "stream",
          "name": "stdout",
          "text": [
            "[10, 20, 40, 50]\n"
          ]
        }
      ]
    },
    {
      "cell_type": "code",
      "source": [
        "# c).Using pop() Method : The pop() method removes and returns the element at a specified index. If no index is specified, it removes and returns the last element.\n",
        "# my_list = [10, 20, 30, 40, 50]\n",
        "\n",
        "# Popping an element by index\n",
        "#popped_element = my_list.pop(2)\n",
        "#print(popped_element)  # Output: 30\n",
        "#print(my_list)  # Output: [10, 20, 40, 50]\n",
        "\n",
        "# Popping the last element\n",
        "#popped_element = my_list.pop()\n",
        "#print(popped_element)  # Output: 50\n",
        "#print(my_list)  # Output: [10, 20, 40]\n",
        "\n",
        "\n",
        "# d).Using clear() Method : The clear() method removes all elements from the list.\n",
        "my_list = [10, 20, 30, 40, 50]\n",
        "\n",
        "# Clearing the list\n",
        "my_list.clear()\n",
        "print(my_list)\n"
      ],
      "metadata": {
        "colab": {
          "base_uri": "https://localhost:8080/"
        },
        "id": "j2zEINRJiQG-",
        "outputId": "d78ab32c-1c49-4b69-df0d-c10f77475122"
      },
      "execution_count": null,
      "outputs": [
        {
          "output_type": "stream",
          "name": "stdout",
          "text": [
            "[]\n"
          ]
        }
      ]
    },
    {
      "cell_type": "code",
      "source": [
        "# 4). Compare and contrast tuples and lists with examples?"
      ],
      "metadata": {
        "id": "9ssrMkTlip1H"
      },
      "execution_count": null,
      "outputs": []
    },
    {
      "cell_type": "code",
      "source": [
        "## . Below is a comparison and contrast of tuples and lists, along with examples to illustrate the differences:\n",
        "\n",
        "# A). Mutability>>\n",
        "# List: Lists are mutable, meaning their elements can be changed after the list is created.\n",
        "# Tuple: Tuples are immutable, meaning once they are created, their elements cannot be changed.\n",
        "# example:\n",
        "\n",
        "# List (mutable)\n",
        "my_list = [1, 2, 3]\n",
        "my_list[0] = 10\n",
        "print(my_list)\n",
        "\n",
        "# Tuple (immutable)\n",
        "my_tuple = (1, 2, 3)\n",
        "# my_tuple[0] = 10  # This will raise a TypeError\n"
      ],
      "metadata": {
        "colab": {
          "base_uri": "https://localhost:8080/"
        },
        "id": "W0d8BVqPi9e2",
        "outputId": "42f7b21c-334c-499a-a4ef-fd2713e431b3"
      },
      "execution_count": null,
      "outputs": [
        {
          "output_type": "stream",
          "name": "stdout",
          "text": [
            "[10, 2, 3]\n"
          ]
        }
      ]
    },
    {
      "cell_type": "code",
      "source": [
        "# B). Syntax>>\n",
        "# List: Lists are defined using square brackets [].\n",
        "# Tuple: Tuples are defined using parentheses ().\n",
        "# example:\n",
        "\n",
        "my_list = [1, 2, 3]\n",
        "my_tuple = (1, 2, 3)\n"
      ],
      "metadata": {
        "id": "v9EGxQBekhQu"
      },
      "execution_count": null,
      "outputs": []
    },
    {
      "cell_type": "code",
      "source": [
        "# C).  Methods>>\n",
        "# List: Lists have a variety of methods for modifying their contents, such as append(), extend(), insert(), remove(), pop(), clear(), sort(), and reverse().\n",
        "# Tuple: Tuples have only two methods: count() and index(), since they cannot be modified.\n",
        "# Example:-\n",
        "# List methods\n",
        "my_list = [1, 2, 3]\n",
        "my_list.append(4)\n",
        "print(my_list)\n",
        "\n",
        "# Tuple methods\n",
        "my_tuple = (1, 2, 3, 2)\n",
        "print(my_tuple.count(2))\n",
        "print(my_tuple.index(3))\n"
      ],
      "metadata": {
        "id": "68DYwr6plNtU",
        "colab": {
          "base_uri": "https://localhost:8080/"
        },
        "outputId": "cd0c7ffd-0ef9-4f05-ac67-bdd326eb1d51"
      },
      "execution_count": null,
      "outputs": [
        {
          "output_type": "stream",
          "name": "stdout",
          "text": [
            "[1, 2, 3, 4]\n",
            "2\n",
            "2\n"
          ]
        }
      ]
    },
    {
      "cell_type": "code",
      "source": [
        "# D). Performance>>\n",
        "# List: Lists are generally slower than tuples when it comes to iterating and accessing elements, because they are mutable and have more functionality.\n",
        "# Tuple: Tuples are typically faster than lists because they are immutable and have fewer built-in methods."
      ],
      "metadata": {
        "id": "YDYKOcaxNkcH"
      },
      "execution_count": null,
      "outputs": []
    },
    {
      "cell_type": "code",
      "source": [
        "# E). Usage>>\n",
        "# List: Use lists when you need a collection of items that can change, such as when adding, removing, or modifying elements.\n",
        "# Tuple: Use tuples when you need a collection of items that should not change, such as when returning multiple values from a function or storing fixed data."
      ],
      "metadata": {
        "id": "jl0T2nA6ODno"
      },
      "execution_count": null,
      "outputs": []
    },
    {
      "cell_type": "code",
      "source": [
        "# 5). Describe the key features of sets and provide examples of their use?"
      ],
      "metadata": {
        "id": "jEC_XUfhOUUz"
      },
      "execution_count": null,
      "outputs": []
    },
    {
      "cell_type": "code",
      "source": [
        "## Key Features of Sets in Python>>\n",
        "#1).Unordered Collection: Sets do not record element positions or order of insertion. Therefore, items have no index.\n",
        "\n",
        "#2).Unique Elements: Sets automatically eliminate duplicate values. If you try to add an element that already exists in the set, it will not be added again.\n",
        "\n",
        "#3).Mutable: Sets are mutable, meaning that you can add or remove elements from a set after its creation.\n",
        "\n",
        "#4).No Duplicates: Since sets automatically handle duplicates, they are particularly useful for filtering duplicates out of a sequence.\n",
        "\n",
        "#5).Support for Mathematical Operations: Sets support operations like union (|), intersection (&), difference (-), and symmetric difference (^).\n",
        "\n",
        "#6).Immutable Counterpart - frozenset: Python also provides an immutable version of a set called frozenset. Once created, elements cannot be added or removed from a frozenset.\n",
        "\n",
        "\n",
        "# Basic Set Operations\n",
        "# a).Creating a Set:\n",
        "# Creating a set with some initial elements\n",
        "fruits = {\"apple\", \"banana\", \"cherry\"}\n",
        "print(fruits)\n",
        "\n",
        "# Creating a set from a list (duplicates will be removed)\n",
        "numbers = set([1, 2, 2, 3, 4, 4, 5])\n",
        "print(numbers)"
      ],
      "metadata": {
        "colab": {
          "base_uri": "https://localhost:8080/"
        },
        "id": "dK-1Mbp0OsBt",
        "outputId": "5a013c79-2cb4-4f3e-abbb-3372685dee51"
      },
      "execution_count": null,
      "outputs": [
        {
          "output_type": "stream",
          "name": "stdout",
          "text": [
            "{'apple', 'banana', 'cherry'}\n",
            "{1, 2, 3, 4, 5}\n"
          ]
        }
      ]
    },
    {
      "cell_type": "code",
      "source": [
        "# b). Adding Elements:\n",
        "fruits.add(\"orange\")\n",
        "print(fruits)"
      ],
      "metadata": {
        "colab": {
          "base_uri": "https://localhost:8080/"
        },
        "id": "vM08iVTCRXFm",
        "outputId": "deb00ec1-284b-46d1-bb31-1a2df267e678"
      },
      "execution_count": null,
      "outputs": [
        {
          "output_type": "stream",
          "name": "stdout",
          "text": [
            "{'apple', 'banana', 'cherry', 'orange'}\n"
          ]
        }
      ]
    },
    {
      "cell_type": "code",
      "source": [
        "# c). Removing Elements:\n",
        "fruits.remove(\"banana\")\n",
        "print(fruits)\n",
        "\n",
        "# Using discard (does not raise an error if the element does not exist)\n",
        "fruits.discard(\"banana\")"
      ],
      "metadata": {
        "colab": {
          "base_uri": "https://localhost:8080/"
        },
        "id": "YAWZ2ImcRj7l",
        "outputId": "dbbb45a6-a0f2-4c30-fd07-6e2ff4ef5bb9"
      },
      "execution_count": null,
      "outputs": [
        {
          "output_type": "stream",
          "name": "stdout",
          "text": [
            "{'apple', 'cherry', 'orange'}\n"
          ]
        }
      ]
    },
    {
      "cell_type": "code",
      "source": [
        "# d).Set Operations:\n",
        "\n",
        "# Union (|): Combines elements from two sets, removing duplicates.\n",
        "#set1 = {1, 2, 3}\n",
        "#set2 = {3, 4, 5}\n",
        "#union_set = set1 | set2\n",
        "#print(union_set)  # Output: {1, 2, 3, 4, 5}\n",
        "\n",
        "# Intersection (&): Returns elements common to both sets.\n",
        "#intersection_set = set1 & set2\n",
        "#print(intersection_set)  # Output: {3}\n",
        "\n",
        "# Difference (-): Returns elements in the first set but not in the second.\n",
        "#difference_set = set1 - set2\n",
        "#print(difference_set)  # Output: {1, 2}\n",
        "\n",
        "# Symmetric Difference (^): Returns elements in either set, but not in both.\n",
        "#symmetric_difference_set = set1 ^ set2\n",
        "#print(symmetric_difference_set)  # Output: {1, 2, 4, 5}"
      ],
      "metadata": {
        "id": "LBw9Im9xRt5e"
      },
      "execution_count": null,
      "outputs": []
    },
    {
      "cell_type": "code",
      "source": [
        "# e). Checking Membership>>\n",
        "print(\"apple\" in fruits)\n",
        "print(\"banana\" in fruits)"
      ],
      "metadata": {
        "colab": {
          "base_uri": "https://localhost:8080/"
        },
        "id": "_z3IlCRqS3qf",
        "outputId": "cdfb4f05-fd6b-4cfe-af66-4fced183ae64"
      },
      "execution_count": null,
      "outputs": [
        {
          "output_type": "stream",
          "name": "stdout",
          "text": [
            "True\n",
            "False\n"
          ]
        }
      ]
    },
    {
      "cell_type": "code",
      "source": [
        "# f). Iterating Over a Set>>\n",
        "for fruit in fruits:\n",
        "    print(fruit)"
      ],
      "metadata": {
        "colab": {
          "base_uri": "https://localhost:8080/"
        },
        "id": "pQ57diVOTL_u",
        "outputId": "fe898fd0-4094-482a-b747-a7a0ef1b08fa"
      },
      "execution_count": null,
      "outputs": [
        {
          "output_type": "stream",
          "name": "stdout",
          "text": [
            "apple\n",
            "cherry\n",
            "orange\n"
          ]
        }
      ]
    },
    {
      "cell_type": "code",
      "source": [
        "# Practical Examples>>\n",
        "# 1)Removing Duplicates from a List:\n",
        "numbers = [1, 2, 2, 3, 4, 4, 5]\n",
        "unique_numbers = list(set(numbers))\n",
        "print(unique_numbers)"
      ],
      "metadata": {
        "colab": {
          "base_uri": "https://localhost:8080/"
        },
        "id": "XalfSZdRTWpk",
        "outputId": "0e83d287-4ba0-4937-9319-3ce913b5e9cc"
      },
      "execution_count": null,
      "outputs": [
        {
          "output_type": "stream",
          "name": "stdout",
          "text": [
            "[1, 2, 3, 4, 5]\n"
          ]
        }
      ]
    },
    {
      "cell_type": "code",
      "source": [
        "# 2)Set Membership Test:\n",
        "vowels = {\"a\", \"e\", \"i\", \"o\", \"u\"}\n",
        "letter = \"e\"\n",
        "if letter in vowels:\n",
        "    print(f\"{letter} is a vowel.\")\n",
        "else:\n",
        "    print(f\"{letter} is not a vowel.\")"
      ],
      "metadata": {
        "colab": {
          "base_uri": "https://localhost:8080/"
        },
        "id": "cjrarCwDTjjc",
        "outputId": "1ca28c50-26b3-4a93-942b-c890521e07d6"
      },
      "execution_count": null,
      "outputs": [
        {
          "output_type": "stream",
          "name": "stdout",
          "text": [
            "e is a vowel.\n"
          ]
        }
      ]
    },
    {
      "cell_type": "code",
      "source": [
        "# 3)Finding Common Elements Between Two Lists:\n",
        "list1 = [1, 2, 3, 4, 5]\n",
        "list2 = [4, 5, 6, 7, 8]\n",
        "common_elements = set(list1) & set(list2)\n",
        "print(common_elements)"
      ],
      "metadata": {
        "colab": {
          "base_uri": "https://localhost:8080/"
        },
        "id": "HIH05ViYTt_M",
        "outputId": "75da324e-7030-4194-d726-1f6a36e8eebe"
      },
      "execution_count": null,
      "outputs": [
        {
          "output_type": "stream",
          "name": "stdout",
          "text": [
            "{4, 5}\n"
          ]
        }
      ]
    },
    {
      "cell_type": "code",
      "source": [
        "# 6). Discuss the use cases of tuples and sets in Python programming?"
      ],
      "metadata": {
        "id": "qSmGcWPiT1aL"
      },
      "execution_count": null,
      "outputs": []
    },
    {
      "cell_type": "code",
      "source": [
        "##  Here are the typical use cases for each:\n",
        "\n",
        "# Tuples\n",
        "# A).Immutable Data Storage:\n",
        "#Tuples are immutable, meaning once a tuple is created, its elements cannot be modified. This immutability makes tuples ideal for storing data that should not change throughout the program's execution.\n",
        "\n",
        "# B).Heterogeneous Data:\n",
        "#Tuples can store different types of data (e.g., integers, strings, lists), making them suitable for returning multiple values from a function. For instance, functions that need to return multiple pieces of data can return a tuple.\n",
        "\n",
        "# c).Function Arguments:\n",
        "#They are often used to pass a sequence of arguments to functions. For example, the *args parameter in a function definition is a tuple that allows the function to accept any number of positional arguments.\n",
        "\n",
        "# D).Dictionary Keys:\n",
        "#Since tuples are immutable, they can be used as keys in dictionaries. This is useful when you need to map a collection of values to a particular key.\n",
        "\n",
        "# E).Efficient Memory Usage:\n",
        "#Tuples are generally more memory-efficient than lists, which makes them useful when dealing with large datasets where the dataset does not need to be modified.\n",
        "\n",
        "# F).Fixed Collection of Items:\n",
        "#They are useful when you have a known and fixed collection of items, such as the coordinates of a point in a 2D or 3D space.\n",
        "\n",
        "\n",
        "# Sets:\n",
        "\n",
        "# A).Unique Elements:\n",
        "#Sets automatically eliminate duplicate entries, making them useful when you need to ensure all elements are unique. For example, sets can be used to filter duplicates from a list.\n",
        "\n",
        "# B).Mathematical Set Operations:\n",
        "#They support mathematical set operations like union, intersection, difference, and symmetric difference. This makes them very useful for tasks like finding common elements between datasets, combining datasets, or finding elements present in one set but not in another.\n",
        "\n",
        "# C).Membership Testing:\n",
        "#Sets are optimized for fast membership testing. If you need to frequently check whether a particular element is in a collection, a set is usually more efficient than a list.\n",
        "\n",
        "# D).Data Deduplication:\n",
        "#Sets can be used to remove duplicates from a list or other iterable by converting the iterable into a set and then back to the desired format.\n",
        "\n",
        "# E).Unordered Data Storage:\n",
        "#Unlike lists, sets are unordered, which can be advantageous when the order of elements is irrelevant and you want to save on the overhead of maintaining order.\n",
        "\n",
        "# F).Efficient Lookups and Operations:\n",
        "#Due to their implementation using hash tables, sets provide O(1) complexity for element lookup, addition, and removal in average cases, making them highly efficient for managing collections of unique items."
      ],
      "metadata": {
        "id": "3FpjHFOFUO-u"
      },
      "execution_count": 1,
      "outputs": []
    },
    {
      "cell_type": "code",
      "source": [
        "# 7). Describe how to add, modify, and delete items in a dictionary with examples?"
      ],
      "metadata": {
        "id": "zDVhzwGwknc8"
      },
      "execution_count": 2,
      "outputs": []
    },
    {
      "cell_type": "code",
      "source": [
        "## Here’s how you can perform these operations:\n",
        "\n",
        "# Adding Items>>\n",
        "# To add an item to a dictionary, you simply assign a value to a new key. If the key already exists, this operation will modify the value associated with that key.\n",
        "# Example dictionary\n",
        "person = {\"name\": \"Alice\", \"age\": 25}\n",
        "\n",
        "# Adding a new item\n",
        "person[\"city\"] = \"New York\"\n",
        "print(person)"
      ],
      "metadata": {
        "colab": {
          "base_uri": "https://localhost:8080/"
        },
        "id": "J1kX5PFjk6IO",
        "outputId": "2ac26ecd-65c4-4898-9f19-1adb71a10d7d"
      },
      "execution_count": 1,
      "outputs": [
        {
          "output_type": "stream",
          "name": "stdout",
          "text": [
            "{'name': 'Alice', 'age': 25, 'city': 'New York'}\n"
          ]
        }
      ]
    },
    {
      "cell_type": "code",
      "source": [
        "# Modifying Items>>\n",
        "# To modify an existing item in a dictionary, you assign a new value to an existing key.\n",
        "# Example dictionary\n",
        "person = {\"name\": \"Alice\", \"age\": 25, \"city\": \"New York\"}\n",
        "\n",
        "# Modifying an existing item\n",
        "person[\"age\"] = 26\n",
        "print(person)"
      ],
      "metadata": {
        "colab": {
          "base_uri": "https://localhost:8080/"
        },
        "id": "m3rQCdc5_Xct",
        "outputId": "a3c67494-715e-4b47-f648-a9d070c40b0f"
      },
      "execution_count": 2,
      "outputs": [
        {
          "output_type": "stream",
          "name": "stdout",
          "text": [
            "{'name': 'Alice', 'age': 26, 'city': 'New York'}\n"
          ]
        }
      ]
    },
    {
      "cell_type": "code",
      "source": [
        "# Deleting Items\n",
        "# There are several ways to delete items from a dictionary:\n",
        "\n",
        "#a). Using the del statement:\n",
        "#This removes the key-value pair with the specified key.\n",
        "# Example dictionary\n",
        "person = {\"name\": \"Alice\", \"age\": 26, \"city\": \"New York\"}\n",
        "\n",
        "# Deleting an item using `del`\n",
        "del person[\"city\"]\n",
        "print(person)"
      ],
      "metadata": {
        "colab": {
          "base_uri": "https://localhost:8080/"
        },
        "id": "9QEbO6YH_tVb",
        "outputId": "8a6e616a-9bfd-42e0-ae37-8340ff27e817"
      },
      "execution_count": 3,
      "outputs": [
        {
          "output_type": "stream",
          "name": "stdout",
          "text": [
            "{'name': 'Alice', 'age': 26}\n"
          ]
        }
      ]
    },
    {
      "cell_type": "code",
      "source": [
        "#b). Using the pop() method:\n",
        "# This removes the key-value pair with the specified key and returns the value.\n",
        "# Example dictionary\n",
        "person = {\"name\": \"Alice\", \"age\": 26}\n",
        "\n",
        "# Deleting an item using `pop()`\n",
        "age = person.pop(\"age\")\n",
        "print(person)\n",
        "# Output: {'name': 'Alice'}\n",
        "print(age)\n",
        "# Output: 26\n"
      ],
      "metadata": {
        "colab": {
          "base_uri": "https://localhost:8080/"
        },
        "id": "xBnBOR2_AlHE",
        "outputId": "9c496294-c382-4222-ed5e-92c5b5867e07"
      },
      "execution_count": 4,
      "outputs": [
        {
          "output_type": "stream",
          "name": "stdout",
          "text": [
            "{'name': 'Alice'}\n",
            "26\n"
          ]
        }
      ]
    },
    {
      "cell_type": "code",
      "source": [
        "#c). Using the popitem() method:\n",
        "# This removes and returns the last inserted key-value pair as a tuple. In Python 3.7 and later, dictionaries are ordered, so this method removes the last item.\n",
        "# Example dictionary\n",
        "person = {\"name\": \"Alice\", \"age\": 26}\n",
        "\n",
        "# Deleting the last item using `popitem()`\n",
        "last_item = person.popitem()\n",
        "print(person)\n",
        "# Output: {'name': 'Alice'}\n",
        "print(last_item)\n",
        "# Output: ('age', 26)\n"
      ],
      "metadata": {
        "colab": {
          "base_uri": "https://localhost:8080/"
        },
        "id": "FshtKA3mA6oR",
        "outputId": "f4c1e577-dec9-4cd7-bac8-104962cbcf21"
      },
      "execution_count": 5,
      "outputs": [
        {
          "output_type": "stream",
          "name": "stdout",
          "text": [
            "{'name': 'Alice'}\n",
            "('age', 26)\n"
          ]
        }
      ]
    },
    {
      "cell_type": "code",
      "source": [
        "#d). Using the clear() method:\n",
        "# This removes all items from the dictionary, leaving it empty.\n",
        "# Example dictionary\n",
        "person = {\"name\": \"Alice\"}\n",
        "\n",
        "# Clearing all items\n",
        "person.clear()\n",
        "print(person)"
      ],
      "metadata": {
        "colab": {
          "base_uri": "https://localhost:8080/"
        },
        "id": "IDZBY2FbBGHB",
        "outputId": "659d2706-8a0d-4a05-d40b-d93caa9c005b"
      },
      "execution_count": 7,
      "outputs": [
        {
          "output_type": "stream",
          "name": "stdout",
          "text": [
            "{}\n"
          ]
        }
      ]
    },
    {
      "cell_type": "code",
      "source": [
        "# 8). Discuss the importance of dictionary keys being immutable and provide examples.?"
      ],
      "metadata": {
        "id": "b_eUqTiuBTup"
      },
      "execution_count": 8,
      "outputs": []
    },
    {
      "cell_type": "code",
      "source": [
        "## Importance of Immutability in Dictionary Keys\n",
        "# A).Consistency in Hashing:\n",
        "# When you add a key-value pair to a dictionary, Python computes the hash of the key to determine where to store the value in the underlying data structure. If the key were mutable and could change after being added, its hash value would also change, leading to incorrect lookups and a corrupted dictionary.\n",
        "\n",
        "# B).Performance:\n",
        "# Dictionary operations, such as insertion, deletion, and lookup, are highly efficient (O(1) average time complexity) due to the use of hash tables. This efficiency relies on the ability to compute hash values quickly and consistently. Immutable keys ensure that hash computations are reliable and fast.\n",
        "\n",
        "# C).Preventing Unintentional Modifications:\n",
        "# Using mutable types (like lists) as dictionary keys could lead to bugs, as modifications to the key would change its hash, making it impossible to reliably access the associated value in the dictionary.\n",
        "\n",
        "# example:\n",
        "# This code will raise a TypeError in Python because lists are mutable and cannot be used as keys\n",
        "try:\n",
        "    key = [1, 2, 3]\n",
        "    my_dict = {key: \"value\"}\n",
        "    print(\"Dictionary created with mutable key:\", my_dict)\n",
        "except TypeError as e:\n",
        "    print(\"Error:\", e)\n",
        "\n",
        "# Correct approach using an immutable tuple as a key\n",
        "key = (1, 2, 3)\n",
        "my_dict = {key: \"value\"}\n",
        "print(\"Dictionary created with immutable key:\", my_dict)\n"
      ],
      "metadata": {
        "colab": {
          "base_uri": "https://localhost:8080/"
        },
        "id": "S8eqTy-pBhli",
        "outputId": "6d730d5e-719e-47d8-f216-5a7546a9af21"
      },
      "execution_count": 9,
      "outputs": [
        {
          "output_type": "stream",
          "name": "stdout",
          "text": [
            "Error: unhashable type: 'list'\n",
            "Dictionary created with immutable key: {(1, 2, 3): 'value'}\n"
          ]
        }
      ]
    },
    {
      "cell_type": "code",
      "source": [],
      "metadata": {
        "id": "xAQgpvtTE5kQ"
      },
      "execution_count": null,
      "outputs": []
    }
  ]
}