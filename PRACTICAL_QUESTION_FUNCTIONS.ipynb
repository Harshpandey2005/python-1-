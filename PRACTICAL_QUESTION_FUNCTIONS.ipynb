{
  "nbformat": 4,
  "nbformat_minor": 0,
  "metadata": {
    "colab": {
      "provenance": []
    },
    "kernelspec": {
      "name": "python3",
      "display_name": "Python 3"
    },
    "language_info": {
      "name": "python"
    }
  },
  "cells": [
    {
      "cell_type": "code",
      "source": [
        "# QUE.1] Write a Python function that takes a list of numbers as input and returns the sum of all even numbers in the list?"
      ],
      "metadata": {
        "id": "hHfk51ljLz9l"
      },
      "execution_count": null,
      "outputs": []
    },
    {
      "cell_type": "code",
      "source": [
        "# Ans).  Python function that calculates the sum of all even numbers in a given list:\n",
        "\n",
        "def sum_of_evens(numbers):\n",
        "    return sum(num for num in numbers if num % 2 == 0)\n",
        "\n",
        "# Example usage:\n",
        "numbers = [1, 2, 3, 4, 5, 6]\n",
        "result = sum_of_evens(numbers)\n",
        "print(result)  # Output will be 12 (2 + 4 + 6)\n",
        "\n",
        "#This function uses a generator expression to filter out even numbers (num % 2 == 0) and then sums them up using the sum() function."
      ],
      "metadata": {
        "colab": {
          "base_uri": "https://localhost:8080/"
        },
        "id": "69gWi_kwMSp6",
        "outputId": "a21daaa3-13e1-4df1-ae1c-73b23fd4313b"
      },
      "execution_count": null,
      "outputs": [
        {
          "output_type": "stream",
          "name": "stdout",
          "text": [
            "12\n"
          ]
        }
      ]
    },
    {
      "cell_type": "code",
      "source": [
        "# Que.2] Create a Python function that accepts a string and returns the reverse of that string?"
      ],
      "metadata": {
        "id": "FnM-oRvtM699"
      },
      "execution_count": null,
      "outputs": []
    },
    {
      "cell_type": "code",
      "source": [
        "# Ans). Python function that takes a string as input and returns its reverse:\n",
        "def reverse_string(s):\n",
        "    return s[::-1]\n",
        "\n",
        "# Example usage:\n",
        "input_string = \"Hello, world!\"\n",
        "reversed_string = reverse_string(input_string)\n",
        "print(reversed_string)  # Output will be \"!dlrow ,olleH\"\n",
        "\n",
        "#This function uses Python's slicing technique ([::-1]) to reverse the string."
      ],
      "metadata": {
        "colab": {
          "base_uri": "https://localhost:8080/"
        },
        "id": "VTj8Y17qNeZc",
        "outputId": "94d5d73e-0cff-4ca0-81d2-b941545844e5"
      },
      "execution_count": null,
      "outputs": [
        {
          "output_type": "stream",
          "name": "stdout",
          "text": [
            "!dlrow ,olleH\n"
          ]
        }
      ]
    },
    {
      "cell_type": "code",
      "source": [
        "# Que.3]  Implement a Python function that takes a list of integers and returns a new list containing the squares of each number?"
      ],
      "metadata": {
        "id": "xW7yQp1-N1Oc"
      },
      "execution_count": null,
      "outputs": []
    },
    {
      "cell_type": "code",
      "source": [
        "# Ans).  Python function that takes a list of integers and returns a new list containing the squares of each number:\n",
        "\n",
        "def square_numbers(numbers):\n",
        "    return [num ** 2 for num in numbers]\n",
        "\n",
        "# Example usage:\n",
        "numbers = [1, 2, 3, 4, 5]\n",
        "squared_numbers = square_numbers(numbers)\n",
        "print(squared_numbers)  # Output will be [1, 4, 9, 16, 25]\n",
        "\n",
        "#This function uses a list comprehension to iterate over each number in the input list and calculate its square (num ** 2). The result is a new list containing these squared values."
      ],
      "metadata": {
        "colab": {
          "base_uri": "https://localhost:8080/"
        },
        "id": "Vpc4ERtdOHI7",
        "outputId": "f7be6af7-0347-4d32-eb38-888c6452019e"
      },
      "execution_count": null,
      "outputs": [
        {
          "output_type": "stream",
          "name": "stdout",
          "text": [
            "[1, 4, 9, 16, 25]\n"
          ]
        }
      ]
    },
    {
      "cell_type": "code",
      "source": [
        "# Que.4] Write a Python function that checks if a given number is prime or not from 1 to 200?"
      ],
      "metadata": {
        "id": "tOHGHGfkOcsi"
      },
      "execution_count": null,
      "outputs": []
    },
    {
      "cell_type": "code",
      "source": [
        "# Ans). Python function that checks if a given number within the range of 1 to 200 is prime:\n",
        "\n",
        "def is_prime(number):\n",
        "    if number <= 1 or number > 200:\n",
        "        return False\n",
        "    if number == 2:\n",
        "        return True  # 2 is the only even prime number\n",
        "    if number % 2 == 0:\n",
        "        return False\n",
        "\n",
        "    for i in range(3, int(number ** 0.5) + 1, 2):\n",
        "        if number % i == 0:\n",
        "            return False\n",
        "\n",
        "    return True\n",
        "\n",
        "# Example usage:\n",
        "number = 137\n",
        "if is_prime(number):\n",
        "    print(f\"{number} is a prime number.\")\n",
        "else:\n",
        "    print(f\"{number} is not a prime number.\")"
      ],
      "metadata": {
        "colab": {
          "base_uri": "https://localhost:8080/"
        },
        "id": "Y0UPGf_KOv7i",
        "outputId": "22f5e23d-5fc0-4dcd-83ff-ce8613f3e31b"
      },
      "execution_count": null,
      "outputs": [
        {
          "output_type": "stream",
          "name": "stdout",
          "text": [
            "137 is a prime number.\n"
          ]
        }
      ]
    },
    {
      "cell_type": "code",
      "source": [
        "# Que.5] . Create an iterator class in Python that generates the Fibonacci sequence up to a specified number of terms?"
      ],
      "metadata": {
        "id": "7OTOtMArRyPB"
      },
      "execution_count": null,
      "outputs": []
    },
    {
      "cell_type": "code",
      "source": [
        "# Ans).We can create an iterator class in Python that generates the Fibonacci sequence up to a specified number of terms:\n",
        "\n",
        "class FibonacciIterator:\n",
        "    def __init__(self, num_terms):\n",
        "        self.num_terms = num_terms\n",
        "        self.current_term = 0\n",
        "        self.a, self.b = 0, 1\n",
        "\n",
        "    def __iter__(self):\n",
        "        return self\n",
        "\n",
        "    def __next__(self):\n",
        "        if self.current_term >= self.num_terms:\n",
        "            raise StopIteration\n",
        "\n",
        "        if self.current_term == 0:\n",
        "            self.current_term += 1\n",
        "            return 0\n",
        "        elif self.current_term == 1:\n",
        "            self.current_term += 1\n",
        "            return 1\n",
        "        else:\n",
        "            self.current_term += 1\n",
        "            self.a, self.b = self.b, self.a + self.b\n",
        "            return self.a\n",
        "\n",
        "# Example usage:\n",
        "num_terms = 10\n",
        "fib = FibonacciIterator(num_terms)\n",
        "\n",
        "for num in fib:\n",
        "    print(num)\n",
        "# OUTPUT\n",
        "'''\n",
        "0\n",
        "1\n",
        "1\n",
        "2\n",
        "3\n",
        "5\n",
        "8\n",
        "13\n",
        "21\n",
        "34\n",
        "'''"
      ],
      "metadata": {
        "id": "W2s5yqYsR9dw",
        "colab": {
          "base_uri": "https://localhost:8080/",
          "height": 209
        },
        "outputId": "85578841-bab7-4c87-facd-efc01ac55e0f"
      },
      "execution_count": null,
      "outputs": [
        {
          "output_type": "stream",
          "name": "stdout",
          "text": [
            "0\n",
            "1\n",
            "1\n",
            "1\n",
            "2\n",
            "3\n",
            "5\n",
            "8\n",
            "13\n",
            "21\n"
          ]
        },
        {
          "output_type": "execute_result",
          "data": {
            "text/plain": [
              "'\\n0\\n1\\n1\\n2\\n3\\n5\\n8\\n13\\n21\\n34\\n'"
            ],
            "application/vnd.google.colaboratory.intrinsic+json": {
              "type": "string"
            }
          },
          "metadata": {},
          "execution_count": 4
        }
      ]
    },
    {
      "cell_type": "code",
      "source": [
        "# Que.6] Write a generator function in Python that yields the powers of 2 up to a given exponent?"
      ],
      "metadata": {
        "id": "4iL-l4Kgj9Ty"
      },
      "execution_count": null,
      "outputs": []
    },
    {
      "cell_type": "code",
      "source": [
        "# Ans.) A generator function in Python that yields the powers of 2 up to a given exponent:\n",
        "\n",
        "def powers_of_two(max_exponent):\n",
        "    for exponent in range(max_exponent + 1):\n",
        "        yield 2 ** exponent\n",
        "\n",
        "# Example usage:\n",
        "max_exponent = 5\n",
        "for power in powers_of_two(max_exponent):\n",
        "    print(power)\n",
        "'''\n",
        "1  (2^0)\n",
        "2  (2^1)\n",
        "4  (2^2)\n",
        "8  (2^3)\n",
        "16 (2^4)\n",
        "32 (2^5)\n",
        "'''"
      ],
      "metadata": {
        "colab": {
          "base_uri": "https://localhost:8080/",
          "height": 140
        },
        "id": "-xIIpDoIkZsj",
        "outputId": "e6a69333-8c63-447c-88e4-edc8607652bb"
      },
      "execution_count": null,
      "outputs": [
        {
          "output_type": "stream",
          "name": "stdout",
          "text": [
            "1\n",
            "2\n",
            "4\n",
            "8\n",
            "16\n",
            "32\n"
          ]
        },
        {
          "output_type": "execute_result",
          "data": {
            "text/plain": [
              "'\\n1  (2^0)\\n2  (2^1)\\n4  (2^2)\\n8  (2^3)\\n16 (2^4)\\n32 (2^5)\\n'"
            ],
            "application/vnd.google.colaboratory.intrinsic+json": {
              "type": "string"
            }
          },
          "metadata": {},
          "execution_count": 6
        }
      ]
    },
    {
      "cell_type": "code",
      "source": [
        "# Que.7]  Implement a generator function that reads a file line by line and yields each line as a string?"
      ],
      "metadata": {
        "id": "PtA8JHnfoQYF"
      },
      "execution_count": null,
      "outputs": []
    },
    {
      "cell_type": "code",
      "source": [
        "# Ans.) Generator function that reads a file line by line and yields each line as a string:\n",
        "\n",
        "def read_file_line_by_line(file_path):\n",
        "    with open(file_path, 'r') as file:\n",
        "        for line in file:\n",
        "            yield line\n",
        "\n",
        "# Example usage:\n",
        "'''\n",
        "file_path = 'example.txt'\n",
        "for line in read_file_line_by_line(file_path):\n",
        "    print(line, end='')  # end='' to avoid adding extra newlines\n",
        "'''\n",
        "\n",
        "#Example:\n",
        "#If the file example.txt contains the following lines:\n",
        "\n",
        "'''\n",
        "Hello, world!\n",
        "This is a test file.\n",
        "It has multiple lines.\n",
        "The generator will yield:\n",
        "'''\n",
        "\n",
        "'''\n",
        "Hello, world!\n",
        "This is a test file.\n",
        "It has multiple lines.\n",
        "'''"
      ],
      "metadata": {
        "colab": {
          "base_uri": "https://localhost:8080/",
          "height": 35
        },
        "id": "w2ui-RKIoc-r",
        "outputId": "22470950-a6f9-41be-97b9-50da074cc75f"
      },
      "execution_count": null,
      "outputs": [
        {
          "output_type": "execute_result",
          "data": {
            "text/plain": [
              "'\\nHello, world!\\nThis is a test file.\\nIt has multiple lines.\\n'"
            ],
            "application/vnd.google.colaboratory.intrinsic+json": {
              "type": "string"
            }
          },
          "metadata": {},
          "execution_count": 9
        }
      ]
    },
    {
      "cell_type": "code",
      "source": [
        "#  Que.8] Use a lambda function in Python to sort a list of tuples based on the second element of each tuple?"
      ],
      "metadata": {
        "id": "YLCTw-xjqqn3"
      },
      "execution_count": null,
      "outputs": []
    },
    {
      "cell_type": "code",
      "source": [
        "# Ans.) To sort a list of tuples based on the second element of each tuple. Here's an example:\n",
        "\n",
        "# List of tuples\n",
        "tuples_list = [(1, 3), (4, 1), (2, 2), (5, 0)]\n",
        "\n",
        "# Sort the list of tuples based on the second element\n",
        "sorted_tuples = sorted(tuples_list, key=lambda x: x[1])\n",
        "\n",
        "# Print the sorted list\n",
        "print(sorted_tuples)"
      ],
      "metadata": {
        "colab": {
          "base_uri": "https://localhost:8080/"
        },
        "id": "wDaosL8dq7Mb",
        "outputId": "f75b7e65-8200-4d76-c733-fa8845c90b34"
      },
      "execution_count": null,
      "outputs": [
        {
          "output_type": "stream",
          "name": "stdout",
          "text": [
            "[(5, 0), (4, 1), (2, 2), (1, 3)]\n"
          ]
        }
      ]
    },
    {
      "cell_type": "code",
      "source": [
        "# Que.9]  Write a Python program that uses `map()` to convert a list of temperatures from Celsius to Fahrenheit?"
      ],
      "metadata": {
        "id": "8JI6zK3BrpF_"
      },
      "execution_count": null,
      "outputs": []
    },
    {
      "cell_type": "code",
      "source": [
        "# Ans.) To convert a list of temperatures from Celsius to Fahrenheit:\n",
        "\n",
        "# List of temperatures in Celsius\n",
        "celsius_temperatures = [0, 20, 37, 100]\n",
        "\n",
        "# Use map() with a lambda function to convert to Fahrenheit\n",
        "fahrenheit_temperatures = list(map(lambda c: (c * 9/5) + 32, celsius_temperatures))\n",
        "\n",
        "# Print the list of temperatures in Fahrenheit\n",
        "print(fahrenheit_temperatures)"
      ],
      "metadata": {
        "colab": {
          "base_uri": "https://localhost:8080/"
        },
        "id": "zJtOj65_rxmY",
        "outputId": "5f2b9c87-1bf5-4405-9180-eb337859380b"
      },
      "execution_count": null,
      "outputs": [
        {
          "output_type": "stream",
          "name": "stdout",
          "text": [
            "[32.0, 68.0, 98.6, 212.0]\n"
          ]
        }
      ]
    },
    {
      "cell_type": "code",
      "source": [
        "# Que.10] Create a Python program that uses `filter()` to remove all the vowels from a given string?"
      ],
      "metadata": {
        "id": "SC-4lF-4sX2d"
      },
      "execution_count": null,
      "outputs": []
    },
    {
      "cell_type": "code",
      "source": [
        "# Ans.) To remove all the vowels from a given string:\n",
        "\n",
        "# Function to check if a character is not a vowel\n",
        "def is_not_vowel(char):\n",
        "    vowels = 'aeiouAEIOU'\n",
        "    return char not in vowels\n",
        "\n",
        "# Given string\n",
        "input_string = \"Hello, World!\"\n",
        "\n",
        "# Use filter() to remove vowels\n",
        "filtered_string = ''.join(filter(is_not_vowel, input_string))\n",
        "\n",
        "# Print the resulting string\n",
        "print(filtered_string)"
      ],
      "metadata": {
        "colab": {
          "base_uri": "https://localhost:8080/"
        },
        "id": "bU4q8oEkse-x",
        "outputId": "0e684a99-6aae-4346-bebb-8d95a859ce63"
      },
      "execution_count": null,
      "outputs": [
        {
          "output_type": "stream",
          "name": "stdout",
          "text": [
            "Hll, Wrld!\n"
          ]
        }
      ]
    },
    {
      "cell_type": "code",
      "source": [
        "# Que.11]  Imagine an accounting routine used in a book shop. It works on a list with sublists, which look like this:\n",
        "'''\n",
        "Order Number       Book Title and Author                             Quantity        Price Per Item\n",
        "34587                    Learning Python , Mark Lutz                    4                     40.95\n",
        "98762                    Programming Python , Mark Lutz                 5                     56.80\n",
        "77226                    Head First Python , Paul Barry                 3                     32.95\n",
        "88112                    Einfuhrung In Python 3 , Bernd Klein           3                     24.99\n",
        "\n",
        "\n",
        "Write a Python program, which returns a list with 2-tuples. Each tuple consists of the order number and the\n",
        "product of the price per item and the quantity. The product should be increased by 10,- € if the value of the\n",
        "order is smaller than 100,00 €.\n",
        "\n",
        "Write a Python program using lambda and map\n",
        "'''"
      ],
      "metadata": {
        "id": "HaygOmXUtPKx"
      },
      "execution_count": null,
      "outputs": []
    },
    {
      "cell_type": "code",
      "source": [
        "# Ans.) Python program that accomplishes the task using lambda and map:\n",
        "# List of orders\n",
        "orders = [\n",
        "    [34587, \"Learning Python, Mark Lutz\", 4, 40.95],\n",
        "    [98762, \"Programming Python, Mark Lutz\", 5, 56.80],\n",
        "    [77226, \"Head First Python, Paul Barry\", 3, 32.95],\n",
        "    [88112, \"Einfuhrung In Python 3, Bernd Klein\", 3, 24.99]\n",
        "]\n",
        "\n",
        "# Function to calculate the total cost with an adjustment for orders under 100 €\n",
        "calculate_total = lambda order: (order[0], order[2] * order[3] if order[2] * order[3] >= 100 else order[2] * order[3] + 10)\n",
        "\n",
        "# Apply the function to each order using map\n",
        "order_totals = list(map(calculate_total, orders))\n",
        "\n",
        "# Output the result\n",
        "print(order_totals)\n",
        "\n",
        "\n",
        "#This program effectively calculates the total for each order while applying the necessary surcharge if the total is under 100 €."
      ],
      "metadata": {
        "id": "jhoxvZDytWaU",
        "colab": {
          "base_uri": "https://localhost:8080/"
        },
        "outputId": "23cb1d19-92ce-4ee1-c8d2-2d7421d8fa14"
      },
      "execution_count": 2,
      "outputs": [
        {
          "output_type": "stream",
          "name": "stdout",
          "text": [
            "[(34587, 163.8), (98762, 284.0), (77226, 108.85000000000001), (88112, 84.97)]\n"
          ]
        }
      ]
    },
    {
      "cell_type": "code",
      "source": [],
      "metadata": {
        "id": "6tKGOLGV71rb"
      },
      "execution_count": null,
      "outputs": []
    }
  ]
}